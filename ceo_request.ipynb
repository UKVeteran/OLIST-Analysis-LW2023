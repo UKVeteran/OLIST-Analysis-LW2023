{
 "cells": [
  {
   "cell_type": "code",
   "execution_count": 1,
   "metadata": {},
   "outputs": [],
   "source": [
    "import pandas as pd\n",
    "import seaborn as sns\n",
    "import statsmodels.api as sm\n",
    "import statsmodels.formula.api as smf\n",
    "import matplotlib.pyplot as plt\n",
    "import numpy as np"
   ]
  },
  {
   "cell_type": "markdown",
   "metadata": {},
   "source": [
    "# CEO-Request Challenge"
   ]
  },
  {
   "cell_type": "markdown",
   "metadata": {},
   "source": [
    "## 1. Summary of Problem Statement"
   ]
  },
  {
   "cell_type": "markdown",
   "metadata": {},
   "source": [
    "❓ **How could Olist improve its profit** ❓"
   ]
  },
  {
   "cell_type": "markdown",
   "metadata": {},
   "source": [
    "### P&L Rules"
   ]
  },
  {
   "cell_type": "markdown",
   "metadata": {
    "jp-MarkdownHeadingCollapsed": true,
    "tags": []
   },
   "source": [
    "#### Revenues  \n",
    "**Sales fees:** Olist takes a **10% cut** on the product price (excl. freight) of each order delivered  \n",
    "**Subscription fees:** Olist charges **80 BRL by month** per seller\n",
    "\n",
    "#### Costs\n",
    "**Reputation costs** *estimated* per order with bad reviews (<= 3 stars)  \n",
    "\n",
    "💡 In the long term, bad customer experience has business implications: low repeat rate, immediate customer support cost, refunds or unfavorable word of mouth communication. We will assume that we have an estimate measure of the monetary cost for each bad review:\n",
    "```python\n",
    "# review_score: cost(BRL)\n",
    "{'1 star': 100\n",
    "'2 stars': 50\n",
    "'3 stars': 40\n",
    "'4 stars': 0\n",
    "'5 stars': 0}\n",
    "```\n",
    "\n",
    "**IT costs:** Olist's **total cumulated IT Costs** scale with the square root of the total number of sellers that has ever join the platform, as well as the square root of the total cumulated number of products that was ever sold.  \n",
    "\n",
    "$IT\\_costs = \\alpha * \\sqrt{n\\_sellers} + \\beta * \\sqrt{n\\_products}$  \n",
    "Olist's data team gave us the following values for these scaling parameters:\n",
    "- $\\alpha = 3157.27$\n",
    "- $\\beta = 978.23$\n",
    "\n",
    "💡 Both number of sellers to manage and sales transaction are costly for IT systems.  \n",
    "💡 Yet square roots reflect scale-effects: IT-system are often more efficient as they grow bigger.  \n",
    "💡 Alpha > Beta means that \"Olist has a lower IT Cost with few sellers selling a lot of products rather than the opposite  \n",
    "- with **1000 sellers** and a total of **100 products** sold, the total IT cost accumulates to 109,624 BRL\n",
    "- with **100 sellers** and a total of **1000 products** sold, the total IT cost accumulates to 62,507 BRL\n",
    "\n",
    "Finally, The IT department also told you that since the birth of the marketplace, cumulated IT costs have amounted to **500,000 BRL**."
   ]
  },
  {
   "cell_type": "markdown",
   "metadata": {},
   "source": [
    "### Key Findings, so far"
   ]
  },
  {
   "cell_type": "markdown",
   "metadata": {},
   "source": [
    "- `wait_time` is the most significant factor behind low review scores  \n",
    "- `wait_time` is made up of seller's `delay_to_carrier` + `carrier_delivery_time`.  \n",
    "- The latter being outside of Olist's direct control, improving it is not a quick-win recommendation\n",
    "- On the contrary, a better selection of `sellers` can positively impact the `delay_to_carrier` and reduce the number of bad `review_scores` on Olist.\n",
    "- Comments of the bad reviews showed that some were linked to the seller or to the product itself."
   ]
  },
  {
   "cell_type": "markdown",
   "metadata": {},
   "source": [
    "💡 We recommend you to start with the the guided seller analysis in part 2 below  \n",
    "💪 But feel free to investigate into other hypothesis instead with part 3"
   ]
  },
  {
   "cell_type": "markdown",
   "metadata": {},
   "source": [
    "## 2. Should Olist remove under-performing sellers from its marketplace? 🕵🏻\n",
    "*(recommended)*"
   ]
  },
  {
   "cell_type": "markdown",
   "metadata": {},
   "source": [
    "To analyze the impact of removing the worse sellers from Olist's marketplace, we will perform a **what-if analysis**\n",
    "\n",
    "👉 **What would have happened if Olist had never accepted these sellers in the first place?**  \n",
    "\n",
    "*(In practice, it's hard to know in advance who is a good seller, but let's start with this approach and iterate later).*"
   ]
  },
  {
   "cell_type": "markdown",
   "metadata": {},
   "source": [
    "### 2.1 Data Preparation"
   ]
  },
  {
   "cell_type": "markdown",
   "metadata": {},
   "source": [
    "Compute, for each `seller_id`, and cumulated since the beginning:\n",
    "- the `revenues` it brings\n",
    "- the `review_costs` associated with all its bad reviews\n",
    "- the resulting `profits` (revenues - costs)\n",
    "\n",
    "👉 Write down a step-by-step strategy to create the DataFrame you need\n",
    "\n",
    "\n",
    "⚠️ Don't start from scratch, update your existing package 😉\n",
    "\n",
    "Starting from the `Seller` class of your `olist` package:\n",
    "\n",
    "Edit the `get_training_data` method so that the DataFrame it returns contains the fields:\n",
    "- `revenues`: sum of subscription and sales fees revenues\n",
    "- `cost_of_reviews`: sum of costs associated with bad reviews\n",
    "- `profits`: `revenues` - `cost_of_reviews`"
   ]
  },
  {
   "cell_type": "markdown",
   "metadata": {},
   "source": [
    "# Step 1"
   ]
  },
  {
   "cell_type": "markdown",
   "metadata": {},
   "source": [
    "## Load Data"
   ]
  },
  {
   "cell_type": "code",
   "execution_count": 2,
   "metadata": {},
   "outputs": [
    {
     "name": "stdout",
     "output_type": "stream",
     "text": [
      "/home/joharlewagon/code/UKVeteran/04-Decision-Science/04-Logistic-Regression/data-recap_ceo_request\n",
      "/home/joharlewagon/code/UKVeteran/04-Decision-Science\n",
      "/home/joharlewagon/code/UKVeteran/04-Decision-Science/01-Project-Setup/data-context-and-setup/data/csv\n",
      "olist_sellers_dataset.csv\n",
      "olist_order_reviews_dataset.csv\n",
      "olist_order_items_dataset.csv\n",
      ".keep\n",
      "olist_customers_dataset.csv\n",
      "olist_orders_dataset.csv\n",
      "olist_order_payments_dataset.csv\n",
      "product_category_name_translation.csv\n",
      "olist_products_dataset.csv\n",
      "olist_geolocation_dataset.csv\n",
      "/home/joharlewagon/code/UKVeteran/04-Decision-Science/04-Logistic-Regression/data-recap_ceo_request\n",
      "/home/joharlewagon/code/UKVeteran/04-Decision-Science\n",
      "/home/joharlewagon/code/UKVeteran/04-Decision-Science/01-Project-Setup/data-context-and-setup/data/csv\n",
      "olist_sellers_dataset.csv\n",
      "olist_order_reviews_dataset.csv\n",
      "olist_order_items_dataset.csv\n",
      ".keep\n",
      "olist_customers_dataset.csv\n",
      "olist_orders_dataset.csv\n",
      "olist_order_payments_dataset.csv\n",
      "product_category_name_translation.csv\n",
      "olist_products_dataset.csv\n",
      "olist_geolocation_dataset.csv\n",
      "/home/joharlewagon/code/UKVeteran/04-Decision-Science/04-Logistic-Regression/data-recap_ceo_request\n",
      "/home/joharlewagon/code/UKVeteran/04-Decision-Science\n",
      "/home/joharlewagon/code/UKVeteran/04-Decision-Science/01-Project-Setup/data-context-and-setup/data/csv\n",
      "olist_sellers_dataset.csv\n",
      "olist_order_reviews_dataset.csv\n",
      "olist_order_items_dataset.csv\n",
      ".keep\n",
      "olist_customers_dataset.csv\n",
      "olist_orders_dataset.csv\n",
      "olist_order_payments_dataset.csv\n",
      "product_category_name_translation.csv\n",
      "olist_products_dataset.csv\n",
      "olist_geolocation_dataset.csv\n"
     ]
    }
   ],
   "source": [
    "from olist.seller import Seller\n",
    "seller=Seller(); sellers=seller.get_training_data() "
   ]
  },
  {
   "cell_type": "code",
   "execution_count": 3,
   "metadata": {},
   "outputs": [
    {
     "data": {
      "text/html": [
       "<div>\n",
       "<style scoped>\n",
       "    .dataframe tbody tr th:only-of-type {\n",
       "        vertical-align: middle;\n",
       "    }\n",
       "\n",
       "    .dataframe tbody tr th {\n",
       "        vertical-align: top;\n",
       "    }\n",
       "\n",
       "    .dataframe thead th {\n",
       "        text-align: right;\n",
       "    }\n",
       "</style>\n",
       "<table border=\"1\" class=\"dataframe\">\n",
       "  <thead>\n",
       "    <tr style=\"text-align: right;\">\n",
       "      <th></th>\n",
       "      <th>seller_id</th>\n",
       "      <th>seller_city</th>\n",
       "      <th>seller_state</th>\n",
       "      <th>delay_to_carrier</th>\n",
       "      <th>wait_time</th>\n",
       "      <th>date_first_sale</th>\n",
       "      <th>date_last_sale</th>\n",
       "      <th>months_on_olist</th>\n",
       "      <th>share_of_one_stars</th>\n",
       "      <th>share_of_five_stars</th>\n",
       "      <th>review_score</th>\n",
       "      <th>cost_of_reviews</th>\n",
       "      <th>n_orders</th>\n",
       "      <th>quantity</th>\n",
       "      <th>quantity_per_order</th>\n",
       "      <th>sales</th>\n",
       "      <th>revenues</th>\n",
       "      <th>profits</th>\n",
       "    </tr>\n",
       "  </thead>\n",
       "  <tbody>\n",
       "    <tr>\n",
       "      <th>0</th>\n",
       "      <td>3442f8959a84dea7ee197c632cb2df15</td>\n",
       "      <td>campinas</td>\n",
       "      <td>SP</td>\n",
       "      <td>0.0</td>\n",
       "      <td>13.018588</td>\n",
       "      <td>2017-05-05 16:25:11</td>\n",
       "      <td>2017-08-30 12:50:19</td>\n",
       "      <td>4.0</td>\n",
       "      <td>0.333333</td>\n",
       "      <td>0.333333</td>\n",
       "      <td>3.00</td>\n",
       "      <td>140</td>\n",
       "      <td>3</td>\n",
       "      <td>3</td>\n",
       "      <td>1.000</td>\n",
       "      <td>218.70</td>\n",
       "      <td>341.870</td>\n",
       "      <td>201.870</td>\n",
       "    </tr>\n",
       "    <tr>\n",
       "      <th>1</th>\n",
       "      <td>d1b65fc7debc3361ea86b5f14c68d2e2</td>\n",
       "      <td>mogi guacu</td>\n",
       "      <td>SP</td>\n",
       "      <td>0.0</td>\n",
       "      <td>9.065716</td>\n",
       "      <td>2017-03-29 02:10:34</td>\n",
       "      <td>2018-06-06 20:15:21</td>\n",
       "      <td>14.0</td>\n",
       "      <td>0.050000</td>\n",
       "      <td>0.725000</td>\n",
       "      <td>4.55</td>\n",
       "      <td>240</td>\n",
       "      <td>40</td>\n",
       "      <td>41</td>\n",
       "      <td>1.025</td>\n",
       "      <td>11703.07</td>\n",
       "      <td>2290.307</td>\n",
       "      <td>2050.307</td>\n",
       "    </tr>\n",
       "  </tbody>\n",
       "</table>\n",
       "</div>"
      ],
      "text/plain": [
       "                          seller_id seller_city seller_state  \\\n",
       "0  3442f8959a84dea7ee197c632cb2df15    campinas           SP   \n",
       "1  d1b65fc7debc3361ea86b5f14c68d2e2  mogi guacu           SP   \n",
       "\n",
       "   delay_to_carrier  wait_time     date_first_sale      date_last_sale  \\\n",
       "0               0.0  13.018588 2017-05-05 16:25:11 2017-08-30 12:50:19   \n",
       "1               0.0   9.065716 2017-03-29 02:10:34 2018-06-06 20:15:21   \n",
       "\n",
       "   months_on_olist  share_of_one_stars  share_of_five_stars  review_score  \\\n",
       "0              4.0            0.333333             0.333333          3.00   \n",
       "1             14.0            0.050000             0.725000          4.55   \n",
       "\n",
       "   cost_of_reviews  n_orders  quantity  quantity_per_order     sales  \\\n",
       "0              140         3         3               1.000    218.70   \n",
       "1              240        40        41               1.025  11703.07   \n",
       "\n",
       "   revenues   profits  \n",
       "0   341.870   201.870  \n",
       "1  2290.307  2050.307  "
      ]
     },
     "execution_count": 3,
     "metadata": {},
     "output_type": "execute_result"
    }
   ],
   "source": [
    "sellers.head(2)"
   ]
  },
  {
   "cell_type": "markdown",
   "metadata": {},
   "source": [
    "# Columns We Want"
   ]
  },
  {
   "cell_type": "code",
   "execution_count": 4,
   "metadata": {},
   "outputs": [
    {
     "data": {
      "text/html": [
       "<div>\n",
       "<style scoped>\n",
       "    .dataframe tbody tr th:only-of-type {\n",
       "        vertical-align: middle;\n",
       "    }\n",
       "\n",
       "    .dataframe tbody tr th {\n",
       "        vertical-align: top;\n",
       "    }\n",
       "\n",
       "    .dataframe thead th {\n",
       "        text-align: right;\n",
       "    }\n",
       "</style>\n",
       "<table border=\"1\" class=\"dataframe\">\n",
       "  <thead>\n",
       "    <tr style=\"text-align: right;\">\n",
       "      <th></th>\n",
       "      <th>seller_id</th>\n",
       "      <th>date_first_sale</th>\n",
       "      <th>date_last_sale</th>\n",
       "      <th>sales</th>\n",
       "    </tr>\n",
       "  </thead>\n",
       "  <tbody>\n",
       "    <tr>\n",
       "      <th>0</th>\n",
       "      <td>3442f8959a84dea7ee197c632cb2df15</td>\n",
       "      <td>2017-05-05 16:25:11</td>\n",
       "      <td>2017-08-30 12:50:19</td>\n",
       "      <td>218.70</td>\n",
       "    </tr>\n",
       "    <tr>\n",
       "      <th>1</th>\n",
       "      <td>d1b65fc7debc3361ea86b5f14c68d2e2</td>\n",
       "      <td>2017-03-29 02:10:34</td>\n",
       "      <td>2018-06-06 20:15:21</td>\n",
       "      <td>11703.07</td>\n",
       "    </tr>\n",
       "  </tbody>\n",
       "</table>\n",
       "</div>"
      ],
      "text/plain": [
       "                          seller_id     date_first_sale      date_last_sale  \\\n",
       "0  3442f8959a84dea7ee197c632cb2df15 2017-05-05 16:25:11 2017-08-30 12:50:19   \n",
       "1  d1b65fc7debc3361ea86b5f14c68d2e2 2017-03-29 02:10:34 2018-06-06 20:15:21   \n",
       "\n",
       "      sales  \n",
       "0    218.70  \n",
       "1  11703.07  "
      ]
     },
     "execution_count": 4,
     "metadata": {},
     "output_type": "execute_result"
    }
   ],
   "source": [
    "useful_columns = [ 'seller_id', 'date_first_sale', 'date_last_sale', 'sales' ] \n",
    "sellers_1 = sellers[useful_columns].copy()\n",
    "sellers_1.head(2)"
   ]
  },
  {
   "cell_type": "markdown",
   "metadata": {},
   "source": [
    " # Revenues\n",
    " ## Sales fees: Olist takes a 10% cut on the product price (excl. freight) of each order delivered\n",
    "## Subscription fees: Olist charges 80 BRL by month per seller"
   ]
  },
  {
   "cell_type": "code",
   "execution_count": 5,
   "metadata": {},
   "outputs": [
    {
     "data": {
      "text/html": [
       "<div>\n",
       "<style scoped>\n",
       "    .dataframe tbody tr th:only-of-type {\n",
       "        vertical-align: middle;\n",
       "    }\n",
       "\n",
       "    .dataframe tbody tr th {\n",
       "        vertical-align: top;\n",
       "    }\n",
       "\n",
       "    .dataframe thead th {\n",
       "        text-align: right;\n",
       "    }\n",
       "</style>\n",
       "<table border=\"1\" class=\"dataframe\">\n",
       "  <thead>\n",
       "    <tr style=\"text-align: right;\">\n",
       "      <th></th>\n",
       "      <th>seller_id</th>\n",
       "      <th>date_first_sale</th>\n",
       "      <th>date_last_sale</th>\n",
       "      <th>sales</th>\n",
       "      <th>active_months</th>\n",
       "      <th>revenues</th>\n",
       "    </tr>\n",
       "  </thead>\n",
       "  <tbody>\n",
       "    <tr>\n",
       "      <th>0</th>\n",
       "      <td>3442f8959a84dea7ee197c632cb2df15</td>\n",
       "      <td>2017-05-05 16:25:11</td>\n",
       "      <td>2017-08-30 12:50:19</td>\n",
       "      <td>218.70</td>\n",
       "      <td>3.839119</td>\n",
       "      <td>328.999525</td>\n",
       "    </tr>\n",
       "    <tr>\n",
       "      <th>1</th>\n",
       "      <td>d1b65fc7debc3361ea86b5f14c68d2e2</td>\n",
       "      <td>2017-03-29 02:10:34</td>\n",
       "      <td>2018-06-06 20:15:21</td>\n",
       "      <td>11703.07</td>\n",
       "      <td>14.283770</td>\n",
       "      <td>2313.008599</td>\n",
       "    </tr>\n",
       "  </tbody>\n",
       "</table>\n",
       "</div>"
      ],
      "text/plain": [
       "                          seller_id     date_first_sale      date_last_sale  \\\n",
       "0  3442f8959a84dea7ee197c632cb2df15 2017-05-05 16:25:11 2017-08-30 12:50:19   \n",
       "1  d1b65fc7debc3361ea86b5f14c68d2e2 2017-03-29 02:10:34 2018-06-06 20:15:21   \n",
       "\n",
       "      sales  active_months     revenues  \n",
       "0    218.70       3.839119   328.999525  \n",
       "1  11703.07      14.283770  2313.008599  "
      ]
     },
     "execution_count": 5,
     "metadata": {},
     "output_type": "execute_result"
    }
   ],
   "source": [
    "sellers_1['active_months'] = \\\n",
    "          (sellers_1['date_last_sale'] - sellers_1['date_first_sale']) / np.timedelta64(1,'M')\n",
    "sellers_1['revenues'] = sellers_1['sales'].map(lambda x : .1*x) \\\n",
    "                       + sellers_1['active_months']*80\n",
    "sellers_1.head(2)"
   ]
  },
  {
   "cell_type": "code",
   "execution_count": 6,
   "metadata": {},
   "outputs": [
    {
     "data": {
      "text/html": [
       "<div>\n",
       "<style scoped>\n",
       "    .dataframe tbody tr th:only-of-type {\n",
       "        vertical-align: middle;\n",
       "    }\n",
       "\n",
       "    .dataframe tbody tr th {\n",
       "        vertical-align: top;\n",
       "    }\n",
       "\n",
       "    .dataframe thead th {\n",
       "        text-align: right;\n",
       "    }\n",
       "</style>\n",
       "<table border=\"1\" class=\"dataframe\">\n",
       "  <thead>\n",
       "    <tr style=\"text-align: right;\">\n",
       "      <th></th>\n",
       "      <th>seller_id</th>\n",
       "      <th>date_first_sale</th>\n",
       "      <th>date_last_sale</th>\n",
       "      <th>sales</th>\n",
       "      <th>active_months</th>\n",
       "      <th>revenues</th>\n",
       "      <th>revenues2</th>\n",
       "    </tr>\n",
       "  </thead>\n",
       "  <tbody>\n",
       "    <tr>\n",
       "      <th>0</th>\n",
       "      <td>3442f8959a84dea7ee197c632cb2df15</td>\n",
       "      <td>2017-05-05 16:25:11</td>\n",
       "      <td>2017-08-30 12:50:19</td>\n",
       "      <td>218.70</td>\n",
       "      <td>3.839119</td>\n",
       "      <td>328.999525</td>\n",
       "      <td>328.999525</td>\n",
       "    </tr>\n",
       "    <tr>\n",
       "      <th>1</th>\n",
       "      <td>d1b65fc7debc3361ea86b5f14c68d2e2</td>\n",
       "      <td>2017-03-29 02:10:34</td>\n",
       "      <td>2018-06-06 20:15:21</td>\n",
       "      <td>11703.07</td>\n",
       "      <td>14.283770</td>\n",
       "      <td>2313.008599</td>\n",
       "      <td>2313.008599</td>\n",
       "    </tr>\n",
       "    <tr>\n",
       "      <th>2</th>\n",
       "      <td>ce3ad9de960102d0677a81f5d0bb7b2d</td>\n",
       "      <td>2018-07-30 12:44:49</td>\n",
       "      <td>2018-07-30 12:44:49</td>\n",
       "      <td>158.00</td>\n",
       "      <td>0.000000</td>\n",
       "      <td>15.800000</td>\n",
       "      <td>15.800000</td>\n",
       "    </tr>\n",
       "    <tr>\n",
       "      <th>3</th>\n",
       "      <td>c0f3eea2e14555b6faeea3dd58c1b1c3</td>\n",
       "      <td>2018-08-03 00:44:08</td>\n",
       "      <td>2018-08-03 00:44:08</td>\n",
       "      <td>79.99</td>\n",
       "      <td>0.000000</td>\n",
       "      <td>7.999000</td>\n",
       "      <td>7.999000</td>\n",
       "    </tr>\n",
       "    <tr>\n",
       "      <th>4</th>\n",
       "      <td>51a04a8a6bdcb23deccc82b0b80742cf</td>\n",
       "      <td>2017-11-14 12:15:25</td>\n",
       "      <td>2017-11-14 12:15:25</td>\n",
       "      <td>167.99</td>\n",
       "      <td>0.000000</td>\n",
       "      <td>16.799000</td>\n",
       "      <td>16.799000</td>\n",
       "    </tr>\n",
       "    <tr>\n",
       "      <th>5</th>\n",
       "      <td>c240c4061717ac1806ae6ee72be3533b</td>\n",
       "      <td>2018-05-08 17:55:23</td>\n",
       "      <td>2018-05-08 17:55:23</td>\n",
       "      <td>59.90</td>\n",
       "      <td>0.000000</td>\n",
       "      <td>5.990000</td>\n",
       "      <td>5.990000</td>\n",
       "    </tr>\n",
       "    <tr>\n",
       "      <th>6</th>\n",
       "      <td>e49c26c3edfa46d227d5121a6b6e4d37</td>\n",
       "      <td>2017-02-04 19:31:42</td>\n",
       "      <td>2018-07-25 14:30:27</td>\n",
       "      <td>3654.25</td>\n",
       "      <td>17.603345</td>\n",
       "      <td>1773.692567</td>\n",
       "      <td>1773.692567</td>\n",
       "    </tr>\n",
       "    <tr>\n",
       "      <th>7</th>\n",
       "      <td>1b938a7ec6ac5061a66a3766e0e75f90</td>\n",
       "      <td>2017-09-23 17:24:32</td>\n",
       "      <td>2018-08-18 19:09:29</td>\n",
       "      <td>3987.60</td>\n",
       "      <td>10.811651</td>\n",
       "      <td>1263.692111</td>\n",
       "      <td>1263.692111</td>\n",
       "    </tr>\n",
       "    <tr>\n",
       "      <th>8</th>\n",
       "      <td>768a86e36ad6aae3d03ee3c6433d61df</td>\n",
       "      <td>2018-06-19 12:18:24</td>\n",
       "      <td>2018-08-24 03:15:18</td>\n",
       "      <td>587.46</td>\n",
       "      <td>2.156031</td>\n",
       "      <td>231.228483</td>\n",
       "      <td>231.228483</td>\n",
       "    </tr>\n",
       "    <tr>\n",
       "      <th>9</th>\n",
       "      <td>ccc4bbb5f32a6ab2b7066a4130f114e3</td>\n",
       "      <td>2017-01-07 14:00:13</td>\n",
       "      <td>2018-08-21 21:05:16</td>\n",
       "      <td>74004.62</td>\n",
       "      <td>19.426934</td>\n",
       "      <td>8954.616751</td>\n",
       "      <td>8954.616751</td>\n",
       "    </tr>\n",
       "  </tbody>\n",
       "</table>\n",
       "</div>"
      ],
      "text/plain": [
       "                          seller_id     date_first_sale      date_last_sale  \\\n",
       "0  3442f8959a84dea7ee197c632cb2df15 2017-05-05 16:25:11 2017-08-30 12:50:19   \n",
       "1  d1b65fc7debc3361ea86b5f14c68d2e2 2017-03-29 02:10:34 2018-06-06 20:15:21   \n",
       "2  ce3ad9de960102d0677a81f5d0bb7b2d 2018-07-30 12:44:49 2018-07-30 12:44:49   \n",
       "3  c0f3eea2e14555b6faeea3dd58c1b1c3 2018-08-03 00:44:08 2018-08-03 00:44:08   \n",
       "4  51a04a8a6bdcb23deccc82b0b80742cf 2017-11-14 12:15:25 2017-11-14 12:15:25   \n",
       "5  c240c4061717ac1806ae6ee72be3533b 2018-05-08 17:55:23 2018-05-08 17:55:23   \n",
       "6  e49c26c3edfa46d227d5121a6b6e4d37 2017-02-04 19:31:42 2018-07-25 14:30:27   \n",
       "7  1b938a7ec6ac5061a66a3766e0e75f90 2017-09-23 17:24:32 2018-08-18 19:09:29   \n",
       "8  768a86e36ad6aae3d03ee3c6433d61df 2018-06-19 12:18:24 2018-08-24 03:15:18   \n",
       "9  ccc4bbb5f32a6ab2b7066a4130f114e3 2017-01-07 14:00:13 2018-08-21 21:05:16   \n",
       "\n",
       "      sales  active_months     revenues    revenues2  \n",
       "0    218.70       3.839119   328.999525   328.999525  \n",
       "1  11703.07      14.283770  2313.008599  2313.008599  \n",
       "2    158.00       0.000000    15.800000    15.800000  \n",
       "3     79.99       0.000000     7.999000     7.999000  \n",
       "4    167.99       0.000000    16.799000    16.799000  \n",
       "5     59.90       0.000000     5.990000     5.990000  \n",
       "6   3654.25      17.603345  1773.692567  1773.692567  \n",
       "7   3987.60      10.811651  1263.692111  1263.692111  \n",
       "8    587.46       2.156031   231.228483   231.228483  \n",
       "9  74004.62      19.426934  8954.616751  8954.616751  "
      ]
     },
     "execution_count": 6,
     "metadata": {},
     "output_type": "execute_result"
    }
   ],
   "source": [
    "sellers_1['revenues2'] = sellers_1['sales']*0.1+80*sellers_1['active_months']\n",
    "sellers_1.head(10)"
   ]
  },
  {
   "cell_type": "code",
   "execution_count": 7,
   "metadata": {},
   "outputs": [
    {
     "name": "stdout",
     "output_type": "stream",
     "text": [
      "Revenues of all sellers : 2787067.4342827117\n"
     ]
    }
   ],
   "source": [
    "total_revenues = sellers_1['revenues'].sum()\n",
    "print(\"Revenues of all sellers :\", total_revenues)"
   ]
  },
  {
   "cell_type": "markdown",
   "metadata": {},
   "source": [
    "# Total Revenue: 2_787_067 BRL"
   ]
  },
  {
   "cell_type": "code",
   "execution_count": 8,
   "metadata": {},
   "outputs": [
    {
     "data": {
      "text/html": [
       "<div>\n",
       "<style scoped>\n",
       "    .dataframe tbody tr th:only-of-type {\n",
       "        vertical-align: middle;\n",
       "    }\n",
       "\n",
       "    .dataframe tbody tr th {\n",
       "        vertical-align: top;\n",
       "    }\n",
       "\n",
       "    .dataframe thead th {\n",
       "        text-align: right;\n",
       "    }\n",
       "</style>\n",
       "<table border=\"1\" class=\"dataframe\">\n",
       "  <thead>\n",
       "    <tr style=\"text-align: right;\">\n",
       "      <th></th>\n",
       "      <th>seller_id</th>\n",
       "      <th>date_first_sale</th>\n",
       "      <th>date_last_sale</th>\n",
       "      <th>sales</th>\n",
       "      <th>active_months</th>\n",
       "      <th>revenues</th>\n",
       "      <th>revenues2</th>\n",
       "    </tr>\n",
       "  </thead>\n",
       "  <tbody>\n",
       "    <tr>\n",
       "      <th>2239</th>\n",
       "      <td>77128dec4bec4878c37ab7d6169d6f26</td>\n",
       "      <td>2017-03-15 20:14:39</td>\n",
       "      <td>2017-03-15 20:14:39</td>\n",
       "      <td>6.50</td>\n",
       "      <td>0.000000</td>\n",
       "      <td>0.650000</td>\n",
       "      <td>0.650000</td>\n",
       "    </tr>\n",
       "    <tr>\n",
       "      <th>2014</th>\n",
       "      <td>1fa2d3def6adfa70e58c276bb64fe5bb</td>\n",
       "      <td>2018-08-24 13:24:27</td>\n",
       "      <td>2018-08-24 13:24:27</td>\n",
       "      <td>6.90</td>\n",
       "      <td>0.000000</td>\n",
       "      <td>0.690000</td>\n",
       "      <td>0.690000</td>\n",
       "    </tr>\n",
       "    <tr>\n",
       "      <th>2312</th>\n",
       "      <td>702835e4b785b67a084280efca355756</td>\n",
       "      <td>2017-02-14 03:42:56</td>\n",
       "      <td>2017-02-14 03:42:56</td>\n",
       "      <td>7.60</td>\n",
       "      <td>0.000000</td>\n",
       "      <td>0.760000</td>\n",
       "      <td>0.760000</td>\n",
       "    </tr>\n",
       "    <tr>\n",
       "      <th>2322</th>\n",
       "      <td>ad14615bdd492b01b0d97922e87cb87f</td>\n",
       "      <td>2017-02-10 17:50:14</td>\n",
       "      <td>2017-02-10 17:50:14</td>\n",
       "      <td>8.25</td>\n",
       "      <td>0.000000</td>\n",
       "      <td>0.825000</td>\n",
       "      <td>0.825000</td>\n",
       "    </tr>\n",
       "    <tr>\n",
       "      <th>1408</th>\n",
       "      <td>4965a7002cca77301c82d3f91b82e1a9</td>\n",
       "      <td>2018-04-24 18:49:47</td>\n",
       "      <td>2018-04-24 18:49:47</td>\n",
       "      <td>8.49</td>\n",
       "      <td>0.000000</td>\n",
       "      <td>0.849000</td>\n",
       "      <td>0.849000</td>\n",
       "    </tr>\n",
       "    <tr>\n",
       "      <th>...</th>\n",
       "      <td>...</td>\n",
       "      <td>...</td>\n",
       "      <td>...</td>\n",
       "      <td>...</td>\n",
       "      <td>...</td>\n",
       "      <td>...</td>\n",
       "      <td>...</td>\n",
       "    </tr>\n",
       "    <tr>\n",
       "      <th>1132</th>\n",
       "      <td>7c67e1448b00f6e969d365cea6b010ab</td>\n",
       "      <td>2017-01-26 22:55:10</td>\n",
       "      <td>2018-08-08 03:10:34</td>\n",
       "      <td>187923.89</td>\n",
       "      <td>18.338852</td>\n",
       "      <td>20259.497200</td>\n",
       "      <td>20259.497200</td>\n",
       "    </tr>\n",
       "    <tr>\n",
       "      <th>534</th>\n",
       "      <td>fa1c13f2614d7b5c4749cbc52fecda94</td>\n",
       "      <td>2017-01-07 20:55:10</td>\n",
       "      <td>2018-08-29 10:04:16</td>\n",
       "      <td>194042.03</td>\n",
       "      <td>19.665225</td>\n",
       "      <td>20977.420976</td>\n",
       "      <td>20977.420976</td>\n",
       "    </tr>\n",
       "    <tr>\n",
       "      <th>2358</th>\n",
       "      <td>4a3ca9315b744ce9f8e9374361493884</td>\n",
       "      <td>2017-01-08 09:45:12</td>\n",
       "      <td>2018-08-27 11:04:18</td>\n",
       "      <td>200472.92</td>\n",
       "      <td>19.583316</td>\n",
       "      <td>21613.957252</td>\n",
       "      <td>21613.957252</td>\n",
       "    </tr>\n",
       "    <tr>\n",
       "      <th>868</th>\n",
       "      <td>53243585a1d6dc2643021fd1853d8905</td>\n",
       "      <td>2017-08-28 18:44:58</td>\n",
       "      <td>2018-08-21 16:35:26</td>\n",
       "      <td>222776.05</td>\n",
       "      <td>11.759093</td>\n",
       "      <td>23218.332447</td>\n",
       "      <td>23218.332447</td>\n",
       "    </tr>\n",
       "    <tr>\n",
       "      <th>2504</th>\n",
       "      <td>4869f7a5dfa277a7dca6462dcf3b52b2</td>\n",
       "      <td>2017-03-07 13:04:43</td>\n",
       "      <td>2018-08-24 19:55:21</td>\n",
       "      <td>229472.63</td>\n",
       "      <td>17.586732</td>\n",
       "      <td>24354.201556</td>\n",
       "      <td>24354.201556</td>\n",
       "    </tr>\n",
       "  </tbody>\n",
       "</table>\n",
       "<p>2967 rows × 7 columns</p>\n",
       "</div>"
      ],
      "text/plain": [
       "                             seller_id     date_first_sale  \\\n",
       "2239  77128dec4bec4878c37ab7d6169d6f26 2017-03-15 20:14:39   \n",
       "2014  1fa2d3def6adfa70e58c276bb64fe5bb 2018-08-24 13:24:27   \n",
       "2312  702835e4b785b67a084280efca355756 2017-02-14 03:42:56   \n",
       "2322  ad14615bdd492b01b0d97922e87cb87f 2017-02-10 17:50:14   \n",
       "1408  4965a7002cca77301c82d3f91b82e1a9 2018-04-24 18:49:47   \n",
       "...                                ...                 ...   \n",
       "1132  7c67e1448b00f6e969d365cea6b010ab 2017-01-26 22:55:10   \n",
       "534   fa1c13f2614d7b5c4749cbc52fecda94 2017-01-07 20:55:10   \n",
       "2358  4a3ca9315b744ce9f8e9374361493884 2017-01-08 09:45:12   \n",
       "868   53243585a1d6dc2643021fd1853d8905 2017-08-28 18:44:58   \n",
       "2504  4869f7a5dfa277a7dca6462dcf3b52b2 2017-03-07 13:04:43   \n",
       "\n",
       "          date_last_sale      sales  active_months      revenues     revenues2  \n",
       "2239 2017-03-15 20:14:39       6.50       0.000000      0.650000      0.650000  \n",
       "2014 2018-08-24 13:24:27       6.90       0.000000      0.690000      0.690000  \n",
       "2312 2017-02-14 03:42:56       7.60       0.000000      0.760000      0.760000  \n",
       "2322 2017-02-10 17:50:14       8.25       0.000000      0.825000      0.825000  \n",
       "1408 2018-04-24 18:49:47       8.49       0.000000      0.849000      0.849000  \n",
       "...                  ...        ...            ...           ...           ...  \n",
       "1132 2018-08-08 03:10:34  187923.89      18.338852  20259.497200  20259.497200  \n",
       "534  2018-08-29 10:04:16  194042.03      19.665225  20977.420976  20977.420976  \n",
       "2358 2018-08-27 11:04:18  200472.92      19.583316  21613.957252  21613.957252  \n",
       "868  2018-08-21 16:35:26  222776.05      11.759093  23218.332447  23218.332447  \n",
       "2504 2018-08-24 19:55:21  229472.63      17.586732  24354.201556  24354.201556  \n",
       "\n",
       "[2967 rows x 7 columns]"
      ]
     },
     "execution_count": 8,
     "metadata": {},
     "output_type": "execute_result"
    }
   ],
   "source": [
    "ssellers_1 = sellers_1.sort_values(by='revenues')\n",
    "ssellers_1"
   ]
  },
  {
   "cell_type": "markdown",
   "metadata": {},
   "source": [
    "## Tried Plotting but did not work due to indexing. Need to reset."
   ]
  },
  {
   "cell_type": "code",
   "execution_count": 9,
   "metadata": {},
   "outputs": [
    {
     "data": {
      "text/plain": [
       "Text(0, 0.5, 'revenues')"
      ]
     },
     "execution_count": 9,
     "metadata": {},
     "output_type": "execute_result"
    },
    {
     "data": {
      "image/png": "[encoded data removed]",
      "text/plain": [
       "<Figure size 640x480 with 1 Axes>"
      ]
     },
     "metadata": {},
     "output_type": "display_data"
    }
   ],
   "source": [
    "sorted_sellers_1 = sellers_1.sort_values(by='revenues')\n",
    "\n",
    "sorted_sellers_1.revenues.plot()\n",
    "plt.xlabel('sellers'); plt.ylabel('revenues')"
   ]
  },
  {
   "cell_type": "markdown",
   "metadata": {},
   "source": [
    "## Index Reset. A much better plot."
   ]
  },
  {
   "cell_type": "code",
   "execution_count": 10,
   "metadata": {},
   "outputs": [
    {
     "data": {
      "text/plain": [
       "Text(0, 0.5, 'revenues')"
      ]
     },
     "execution_count": 10,
     "metadata": {},
     "output_type": "execute_result"
    },
    {
     "data": {
      "image/png": "[encoded data removed]",
      "text/plain": [
       "<Figure size 640x480 with 1 Axes>"
      ]
     },
     "metadata": {},
     "output_type": "display_data"
    }
   ],
   "source": [
    "sorted_sellers_1 = sellers_1.sort_values(by='revenues').reset_index()\n",
    "\n",
    "sorted_sellers_1.revenues.plot()\n",
    "plt.xlabel('sellers'); plt.ylabel('revenues')"
   ]
  },
  {
   "cell_type": "code",
   "execution_count": 11,
   "metadata": {},
   "outputs": [
    {
     "data": {
      "text/html": [
       "<div>\n",
       "<style scoped>\n",
       "    .dataframe tbody tr th:only-of-type {\n",
       "        vertical-align: middle;\n",
       "    }\n",
       "\n",
       "    .dataframe tbody tr th {\n",
       "        vertical-align: top;\n",
       "    }\n",
       "\n",
       "    .dataframe thead th {\n",
       "        text-align: right;\n",
       "    }\n",
       "</style>\n",
       "<table border=\"1\" class=\"dataframe\">\n",
       "  <thead>\n",
       "    <tr style=\"text-align: right;\">\n",
       "      <th></th>\n",
       "      <th>seller_id</th>\n",
       "      <th>revenues</th>\n",
       "    </tr>\n",
       "  </thead>\n",
       "  <tbody>\n",
       "    <tr>\n",
       "      <th>2239</th>\n",
       "      <td>77128dec4bec4878c37ab7d6169d6f26</td>\n",
       "      <td>0.65</td>\n",
       "    </tr>\n",
       "    <tr>\n",
       "      <th>2014</th>\n",
       "      <td>1fa2d3def6adfa70e58c276bb64fe5bb</td>\n",
       "      <td>0.69</td>\n",
       "    </tr>\n",
       "    <tr>\n",
       "      <th>2312</th>\n",
       "      <td>702835e4b785b67a084280efca355756</td>\n",
       "      <td>0.76</td>\n",
       "    </tr>\n",
       "    <tr>\n",
       "      <th>2322</th>\n",
       "      <td>ad14615bdd492b01b0d97922e87cb87f</td>\n",
       "      <td>0.82</td>\n",
       "    </tr>\n",
       "    <tr>\n",
       "      <th>1408</th>\n",
       "      <td>4965a7002cca77301c82d3f91b82e1a9</td>\n",
       "      <td>0.85</td>\n",
       "    </tr>\n",
       "    <tr>\n",
       "      <th>2492</th>\n",
       "      <td>0f94588695d71662beec8d883ffacf09</td>\n",
       "      <td>0.90</td>\n",
       "    </tr>\n",
       "    <tr>\n",
       "      <th>2896</th>\n",
       "      <td>c18309219e789960add0b2255ca4b091</td>\n",
       "      <td>0.99</td>\n",
       "    </tr>\n",
       "    <tr>\n",
       "      <th>2953</th>\n",
       "      <td>95cca791657aabeff15a07eb152d7841</td>\n",
       "      <td>1.00</td>\n",
       "    </tr>\n",
       "    <tr>\n",
       "      <th>1824</th>\n",
       "      <td>344223b2a90784f64136a8a5da012e7f</td>\n",
       "      <td>1.09</td>\n",
       "    </tr>\n",
       "    <tr>\n",
       "      <th>2079</th>\n",
       "      <td>3ac588cd562971392504a9e17130c40b</td>\n",
       "      <td>1.19</td>\n",
       "    </tr>\n",
       "  </tbody>\n",
       "</table>\n",
       "</div>"
      ],
      "text/plain": [
       "                             seller_id  revenues\n",
       "2239  77128dec4bec4878c37ab7d6169d6f26      0.65\n",
       "2014  1fa2d3def6adfa70e58c276bb64fe5bb      0.69\n",
       "2312  702835e4b785b67a084280efca355756      0.76\n",
       "2322  ad14615bdd492b01b0d97922e87cb87f      0.82\n",
       "1408  4965a7002cca77301c82d3f91b82e1a9      0.85\n",
       "2492  0f94588695d71662beec8d883ffacf09      0.90\n",
       "2896  c18309219e789960add0b2255ca4b091      0.99\n",
       "2953  95cca791657aabeff15a07eb152d7841      1.00\n",
       "1824  344223b2a90784f64136a8a5da012e7f      1.09\n",
       "2079  3ac588cd562971392504a9e17130c40b      1.19"
      ]
     },
     "execution_count": 11,
     "metadata": {},
     "output_type": "execute_result"
    }
   ],
   "source": [
    "round( sellers_1[['seller_id', 'revenues']] , 2) \\\n",
    "                        .sort_values(by = 'revenues') \\\n",
    "                        .head(10)  "
   ]
  },
  {
   "cell_type": "code",
   "execution_count": 12,
   "metadata": {},
   "outputs": [
    {
     "data": {
      "text/html": [
       "<div>\n",
       "<style scoped>\n",
       "    .dataframe tbody tr th:only-of-type {\n",
       "        vertical-align: middle;\n",
       "    }\n",
       "\n",
       "    .dataframe tbody tr th {\n",
       "        vertical-align: top;\n",
       "    }\n",
       "\n",
       "    .dataframe thead th {\n",
       "        text-align: right;\n",
       "    }\n",
       "</style>\n",
       "<table border=\"1\" class=\"dataframe\">\n",
       "  <thead>\n",
       "    <tr style=\"text-align: right;\">\n",
       "      <th></th>\n",
       "      <th>seller_id</th>\n",
       "      <th>revenues</th>\n",
       "    </tr>\n",
       "  </thead>\n",
       "  <tbody>\n",
       "    <tr>\n",
       "      <th>2358</th>\n",
       "      <td>4a3ca9315b744ce9f8e9374361493884</td>\n",
       "      <td>21613.96</td>\n",
       "    </tr>\n",
       "    <tr>\n",
       "      <th>868</th>\n",
       "      <td>53243585a1d6dc2643021fd1853d8905</td>\n",
       "      <td>23218.33</td>\n",
       "    </tr>\n",
       "    <tr>\n",
       "      <th>2504</th>\n",
       "      <td>4869f7a5dfa277a7dca6462dcf3b52b2</td>\n",
       "      <td>24354.20</td>\n",
       "    </tr>\n",
       "  </tbody>\n",
       "</table>\n",
       "</div>"
      ],
      "text/plain": [
       "                             seller_id  revenues\n",
       "2358  4a3ca9315b744ce9f8e9374361493884  21613.96\n",
       "868   53243585a1d6dc2643021fd1853d8905  23218.33\n",
       "2504  4869f7a5dfa277a7dca6462dcf3b52b2  24354.20"
      ]
     },
     "execution_count": 12,
     "metadata": {},
     "output_type": "execute_result"
    }
   ],
   "source": [
    "round( sellers_1[['seller_id', 'revenues']] , 2 ) \\\n",
    "                        .sort_values(by = 'revenues') \\\n",
    "                        .tail(3) "
   ]
  },
  {
   "cell_type": "markdown",
   "metadata": {},
   "source": [
    "# Cumulative sum of revenues"
   ]
  },
  {
   "cell_type": "markdown",
   "metadata": {},
   "source": [
    "## Using Pandas"
   ]
  },
  {
   "cell_type": "code",
   "execution_count": 13,
   "metadata": {},
   "outputs": [
    {
     "data": {
      "text/plain": [
       "Text(0, 0.5, 'Cumulative sum of revenues')"
      ]
     },
     "execution_count": 13,
     "metadata": {},
     "output_type": "execute_result"
    },
    {
     "data": {
      "image/png": "[encoded data removed]",
      "text/plain": [
       "<Figure size 640x480 with 1 Axes>"
      ]
     },
     "metadata": {},
     "output_type": "display_data"
    }
   ],
   "source": [
    "sorted_sellers_1.revenues.cumsum().plot();\n",
    "plt.xlabel('sellers'); plt.ylabel('Cumulative sum of revenues')"
   ]
  },
  {
   "cell_type": "markdown",
   "metadata": {},
   "source": [
    "## Using NumPy"
   ]
  },
  {
   "cell_type": "code",
   "execution_count": 14,
   "metadata": {},
   "outputs": [
    {
     "data": {
      "text/plain": [
       "Text(0, 0.5, 'Cumulative sum of revenues')"
      ]
     },
     "execution_count": 14,
     "metadata": {},
     "output_type": "execute_result"
    },
    {
     "data": {
      "image/png": "[encoded data removed]",
      "text/plain": [
       "<Figure size 640x480 with 1 Axes>"
      ]
     },
     "metadata": {},
     "output_type": "display_data"
    }
   ],
   "source": [
    "np.cumsum(sorted_sellers_1.revenues).plot();\n",
    "plt.xlabel('sellers'); plt.ylabel('Cumulative sum of revenues')"
   ]
  },
  {
   "cell_type": "markdown",
   "metadata": {},
   "source": [
    "# Step 2"
   ]
  },
  {
   "cell_type": "markdown",
   "metadata": {},
   "source": [
    "## Total costs - Bad Reviews"
   ]
  },
  {
   "cell_type": "raw",
   "metadata": {},
   "source": [
    "review_score ------> cost (BRL)\n",
    "\n",
    "1 star ------> 100\n",
    "2 stars ------> 50\n",
    "3 stars ------> 40\n",
    "4 stars ------> 0\n",
    "5 stars ------> 0\n",
    "from olist.data import Olist\n",
    "olist=Olist()\n",
    "data=olist.get_data() ## is dict\n",
    "matching_table = olist.get_matching_table() ----> matching_table.shape : (114100, 5)"
   ]
  },
  {
   "cell_type": "code",
   "execution_count": 15,
   "metadata": {},
   "outputs": [
    {
     "name": "stdout",
     "output_type": "stream",
     "text": [
      "/home/joharlewagon/code/UKVeteran/04-Decision-Science/04-Logistic-Regression/data-recap_ceo_request\n",
      "/home/joharlewagon/code/UKVeteran/04-Decision-Science\n",
      "/home/joharlewagon/code/UKVeteran/04-Decision-Science/01-Project-Setup/data-context-and-setup/data/csv\n",
      "olist_sellers_dataset.csv\n",
      "olist_order_reviews_dataset.csv\n",
      "olist_order_items_dataset.csv\n",
      ".keep\n",
      "olist_customers_dataset.csv\n",
      "olist_orders_dataset.csv\n",
      "olist_order_payments_dataset.csv\n",
      "product_category_name_translation.csv\n",
      "olist_products_dataset.csv\n",
      "olist_geolocation_dataset.csv\n"
     ]
    }
   ],
   "source": [
    "from olist.order import Order\n",
    "order=Order()\n",
    "orders=order.get_training_data()"
   ]
  },
  {
   "cell_type": "code",
   "execution_count": 16,
   "metadata": {},
   "outputs": [
    {
     "data": {
      "text/plain": [
       "(96353, 2)"
      ]
     },
     "execution_count": 16,
     "metadata": {},
     "output_type": "execute_result"
    }
   ],
   "source": [
    "useful_columns = ['order_id', 'review_score']\n",
    "orders_1 = orders[useful_columns].copy()\n",
    "orders_1.shape"
   ]
  },
  {
   "cell_type": "code",
   "execution_count": 17,
   "metadata": {},
   "outputs": [
    {
     "name": "stdout",
     "output_type": "stream",
     "text": [
      "/home/joharlewagon/code/UKVeteran/04-Decision-Science/04-Logistic-Regression/data-recap_ceo_request\n",
      "/home/joharlewagon/code/UKVeteran/04-Decision-Science\n",
      "/home/joharlewagon/code/UKVeteran/04-Decision-Science/01-Project-Setup/data-context-and-setup/data/csv\n",
      "olist_sellers_dataset.csv\n",
      "olist_order_reviews_dataset.csv\n",
      "olist_order_items_dataset.csv\n",
      ".keep\n",
      "olist_customers_dataset.csv\n",
      "olist_orders_dataset.csv\n",
      "olist_order_payments_dataset.csv\n",
      "product_category_name_translation.csv\n",
      "olist_products_dataset.csv\n",
      "olist_geolocation_dataset.csv\n"
     ]
    },
    {
     "data": {
      "text/plain": [
       "(114092, 5)"
      ]
     },
     "execution_count": 17,
     "metadata": {},
     "output_type": "execute_result"
    }
   ],
   "source": [
    "from olist.data import Olist\n",
    "olist=Olist()\n",
    "matching_table = olist.get_matching_table() \n",
    "matching_table.shape"
   ]
  },
  {
   "cell_type": "markdown",
   "metadata": {},
   "source": [
    "## Run Some Diagnostics as the dimensions of the resulting tables did not match"
   ]
  },
  {
   "cell_type": "code",
   "execution_count": 18,
   "metadata": {},
   "outputs": [
    {
     "data": {
      "text/html": [
       "<div>\n",
       "<style scoped>\n",
       "    .dataframe tbody tr th:only-of-type {\n",
       "        vertical-align: middle;\n",
       "    }\n",
       "\n",
       "    .dataframe tbody tr th {\n",
       "        vertical-align: top;\n",
       "    }\n",
       "\n",
       "    .dataframe thead th {\n",
       "        text-align: right;\n",
       "    }\n",
       "</style>\n",
       "<table border=\"1\" class=\"dataframe\">\n",
       "  <thead>\n",
       "    <tr style=\"text-align: right;\">\n",
       "      <th></th>\n",
       "      <th>customer_id</th>\n",
       "      <th>order_id</th>\n",
       "      <th>review_id</th>\n",
       "      <th>product_id</th>\n",
       "      <th>seller_id</th>\n",
       "    </tr>\n",
       "  </thead>\n",
       "  <tbody>\n",
       "    <tr>\n",
       "      <th>0</th>\n",
       "      <td>9ef432eb6251297304e76186b10a928d</td>\n",
       "      <td>e481f51cbdc54678b7cc49136f2d6af7</td>\n",
       "      <td>a54f0611adc9ed256b57ede6b6eb5114</td>\n",
       "      <td>87285b34884572647811a353c7ac498a</td>\n",
       "      <td>3504c0cb71d7fa48d967e0e4c94d59d9</td>\n",
       "    </tr>\n",
       "    <tr>\n",
       "      <th>1</th>\n",
       "      <td>b0830fb4747a6c6d20dea0b8c802d7ef</td>\n",
       "      <td>53cdb2fc8bc7dce0b6741e2150273451</td>\n",
       "      <td>8d5266042046a06655c8db133d120ba5</td>\n",
       "      <td>595fac2a385ac33a80bd5114aec74eb8</td>\n",
       "      <td>289cdb325fb7e7f891c38608bf9e0962</td>\n",
       "    </tr>\n",
       "    <tr>\n",
       "      <th>2</th>\n",
       "      <td>41ce2a54c0b03bf3443c3d931a367089</td>\n",
       "      <td>47770eb9100c2d0c44946d9cf07ec65d</td>\n",
       "      <td>e73b67b67587f7644d5bd1a52deb1b01</td>\n",
       "      <td>aa4383b373c6aca5d8797843e5594415</td>\n",
       "      <td>4869f7a5dfa277a7dca6462dcf3b52b2</td>\n",
       "    </tr>\n",
       "    <tr>\n",
       "      <th>3</th>\n",
       "      <td>f88197465ea7920adcdbec7375364d82</td>\n",
       "      <td>949d5b44dbf5de918fe9c16f97b45f8a</td>\n",
       "      <td>359d03e676b3c069f62cadba8dd3f6e8</td>\n",
       "      <td>d0b61bfb1de832b15ba9d266ca96e5b0</td>\n",
       "      <td>66922902710d126a0e7d26b0e3805106</td>\n",
       "    </tr>\n",
       "    <tr>\n",
       "      <th>4</th>\n",
       "      <td>8ab97904e6daea8866dbdbc4fb7aad2c</td>\n",
       "      <td>ad21c59c0840e6cb83a9ceb5573f8159</td>\n",
       "      <td>e50934924e227544ba8246aeb3770dd4</td>\n",
       "      <td>65266b2da20d04dbe00c5c2d3bb7859e</td>\n",
       "      <td>2c9e548be18521d1c43cde1c582c6de8</td>\n",
       "    </tr>\n",
       "  </tbody>\n",
       "</table>\n",
       "</div>"
      ],
      "text/plain": [
       "                        customer_id                          order_id  \\\n",
       "0  9ef432eb6251297304e76186b10a928d  e481f51cbdc54678b7cc49136f2d6af7   \n",
       "1  b0830fb4747a6c6d20dea0b8c802d7ef  53cdb2fc8bc7dce0b6741e2150273451   \n",
       "2  41ce2a54c0b03bf3443c3d931a367089  47770eb9100c2d0c44946d9cf07ec65d   \n",
       "3  f88197465ea7920adcdbec7375364d82  949d5b44dbf5de918fe9c16f97b45f8a   \n",
       "4  8ab97904e6daea8866dbdbc4fb7aad2c  ad21c59c0840e6cb83a9ceb5573f8159   \n",
       "\n",
       "                          review_id                        product_id  \\\n",
       "0  a54f0611adc9ed256b57ede6b6eb5114  87285b34884572647811a353c7ac498a   \n",
       "1  8d5266042046a06655c8db133d120ba5  595fac2a385ac33a80bd5114aec74eb8   \n",
       "2  e73b67b67587f7644d5bd1a52deb1b01  aa4383b373c6aca5d8797843e5594415   \n",
       "3  359d03e676b3c069f62cadba8dd3f6e8  d0b61bfb1de832b15ba9d266ca96e5b0   \n",
       "4  e50934924e227544ba8246aeb3770dd4  65266b2da20d04dbe00c5c2d3bb7859e   \n",
       "\n",
       "                          seller_id  \n",
       "0  3504c0cb71d7fa48d967e0e4c94d59d9  \n",
       "1  289cdb325fb7e7f891c38608bf9e0962  \n",
       "2  4869f7a5dfa277a7dca6462dcf3b52b2  \n",
       "3  66922902710d126a0e7d26b0e3805106  \n",
       "4  2c9e548be18521d1c43cde1c582c6de8  "
      ]
     },
     "execution_count": 18,
     "metadata": {},
     "output_type": "execute_result"
    }
   ],
   "source": [
    "matching_table.head(5)"
   ]
  },
  {
   "cell_type": "code",
   "execution_count": 19,
   "metadata": {},
   "outputs": [
    {
     "data": {
      "text/plain": [
       "(20, 2)"
      ]
     },
     "execution_count": 19,
     "metadata": {},
     "output_type": "execute_result"
    }
   ],
   "source": [
    "useful_columns = ['order_id', 'review_score']\n",
    "orders_1 = orders[useful_columns].copy()\n",
    "orders_1.head(2)\n",
    "df1=orders_1.head(20)\n",
    "df1.shape"
   ]
  },
  {
   "cell_type": "markdown",
   "metadata": {},
   "source": [
    "## To remedy the error it is better to use the whole matching table and orders to merge on order_id"
   ]
  },
  {
   "cell_type": "code",
   "execution_count": 20,
   "metadata": {},
   "outputs": [
    {
     "data": {
      "text/plain": [
       "(111303, 16)"
      ]
     },
     "execution_count": 20,
     "metadata": {},
     "output_type": "execute_result"
    }
   ],
   "source": [
    "costs =matching_table.merge(orders , on = 'order_id')\n",
    "costs.shape"
   ]
  },
  {
   "cell_type": "markdown",
   "metadata": {},
   "source": [
    "## The above shape is something I am happy with"
   ]
  },
  {
   "cell_type": "code",
   "execution_count": 21,
   "metadata": {},
   "outputs": [
    {
     "data": {
      "text/html": [
       "<div>\n",
       "<style scoped>\n",
       "    .dataframe tbody tr th:only-of-type {\n",
       "        vertical-align: middle;\n",
       "    }\n",
       "\n",
       "    .dataframe tbody tr th {\n",
       "        vertical-align: top;\n",
       "    }\n",
       "\n",
       "    .dataframe thead th {\n",
       "        text-align: right;\n",
       "    }\n",
       "</style>\n",
       "<table border=\"1\" class=\"dataframe\">\n",
       "  <thead>\n",
       "    <tr style=\"text-align: right;\">\n",
       "      <th></th>\n",
       "      <th>order_id</th>\n",
       "      <th>review_score</th>\n",
       "    </tr>\n",
       "  </thead>\n",
       "  <tbody>\n",
       "    <tr>\n",
       "      <th>0</th>\n",
       "      <td>e481f51cbdc54678b7cc49136f2d6af7</td>\n",
       "      <td>4</td>\n",
       "    </tr>\n",
       "    <tr>\n",
       "      <th>1</th>\n",
       "      <td>53cdb2fc8bc7dce0b6741e2150273451</td>\n",
       "      <td>4</td>\n",
       "    </tr>\n",
       "    <tr>\n",
       "      <th>2</th>\n",
       "      <td>47770eb9100c2d0c44946d9cf07ec65d</td>\n",
       "      <td>5</td>\n",
       "    </tr>\n",
       "    <tr>\n",
       "      <th>3</th>\n",
       "      <td>949d5b44dbf5de918fe9c16f97b45f8a</td>\n",
       "      <td>5</td>\n",
       "    </tr>\n",
       "    <tr>\n",
       "      <th>4</th>\n",
       "      <td>ad21c59c0840e6cb83a9ceb5573f8159</td>\n",
       "      <td>5</td>\n",
       "    </tr>\n",
       "    <tr>\n",
       "      <th>...</th>\n",
       "      <td>...</td>\n",
       "      <td>...</td>\n",
       "    </tr>\n",
       "    <tr>\n",
       "      <th>111298</th>\n",
       "      <td>63943bddc261676b46f01ca7ac2f7bd8</td>\n",
       "      <td>4</td>\n",
       "    </tr>\n",
       "    <tr>\n",
       "      <th>111299</th>\n",
       "      <td>83c1379a015df1e13d02aae0204711ab</td>\n",
       "      <td>5</td>\n",
       "    </tr>\n",
       "    <tr>\n",
       "      <th>111300</th>\n",
       "      <td>11c177c8e97725db2631073c19f07b62</td>\n",
       "      <td>2</td>\n",
       "    </tr>\n",
       "    <tr>\n",
       "      <th>111301</th>\n",
       "      <td>11c177c8e97725db2631073c19f07b62</td>\n",
       "      <td>2</td>\n",
       "    </tr>\n",
       "    <tr>\n",
       "      <th>111302</th>\n",
       "      <td>66dea50a8b16d9b4dee7af250b4be1a5</td>\n",
       "      <td>5</td>\n",
       "    </tr>\n",
       "  </tbody>\n",
       "</table>\n",
       "<p>111303 rows × 2 columns</p>\n",
       "</div>"
      ],
      "text/plain": [
       "                                order_id  review_score\n",
       "0       e481f51cbdc54678b7cc49136f2d6af7             4\n",
       "1       53cdb2fc8bc7dce0b6741e2150273451             4\n",
       "2       47770eb9100c2d0c44946d9cf07ec65d             5\n",
       "3       949d5b44dbf5de918fe9c16f97b45f8a             5\n",
       "4       ad21c59c0840e6cb83a9ceb5573f8159             5\n",
       "...                                  ...           ...\n",
       "111298  63943bddc261676b46f01ca7ac2f7bd8             4\n",
       "111299  83c1379a015df1e13d02aae0204711ab             5\n",
       "111300  11c177c8e97725db2631073c19f07b62             2\n",
       "111301  11c177c8e97725db2631073c19f07b62             2\n",
       "111302  66dea50a8b16d9b4dee7af250b4be1a5             5\n",
       "\n",
       "[111303 rows x 2 columns]"
      ]
     },
     "execution_count": 21,
     "metadata": {},
     "output_type": "execute_result"
    }
   ],
   "source": [
    "costs[['order_id','review_score']]"
   ]
  },
  {
   "cell_type": "markdown",
   "metadata": {},
   "source": [
    "## Need to create a dictionary"
   ]
  },
  {
   "cell_type": "raw",
   "metadata": {},
   "source": [
    "1 star ------> 100\n",
    "2 stars ------> 50\n",
    "3 stars ------> 40\n",
    "4 stars ------> 0\n",
    "5 stars ------> 0"
   ]
  },
  {
   "cell_type": "code",
   "execution_count": 22,
   "metadata": {},
   "outputs": [],
   "source": [
    "def review_to_price(review_score): \n",
    "    d = {1 : 100, 2 : 50, 3 : 40, 4 : 0, 5: 0}\n",
    "    return d[review_score]"
   ]
  },
  {
   "cell_type": "code",
   "execution_count": 23,
   "metadata": {},
   "outputs": [
    {
     "data": {
      "text/plain": [
       "(111303, 2)"
      ]
     },
     "execution_count": 23,
     "metadata": {},
     "output_type": "execute_result"
    }
   ],
   "source": [
    "costs['costs'] = costs['review_score'].map(review_to_price)\n",
    "costs_1 = costs[['seller_id', 'costs']].copy()\n",
    "costs_1.shape"
   ]
  },
  {
   "cell_type": "code",
   "execution_count": 24,
   "metadata": {},
   "outputs": [],
   "source": [
    "costs_2=costs_1.drop_duplicates()"
   ]
  },
  {
   "cell_type": "code",
   "execution_count": 25,
   "metadata": {},
   "outputs": [
    {
     "data": {
      "text/plain": [
       "(6651, 2)"
      ]
     },
     "execution_count": 25,
     "metadata": {},
     "output_type": "execute_result"
    }
   ],
   "source": [
    "costs_2.shape"
   ]
  },
  {
   "cell_type": "code",
   "execution_count": 26,
   "metadata": {},
   "outputs": [
    {
     "name": "stdout",
     "output_type": "stream",
     "text": [
      "Costs for all sellers:  1837830 BRL\n"
     ]
    }
   ],
   "source": [
    "print(\"Costs for all sellers: \", costs_1.costs.sum() , \"BRL\")"
   ]
  },
  {
   "cell_type": "code",
   "execution_count": 27,
   "metadata": {},
   "outputs": [
    {
     "data": {
      "text/html": [
       "<div>\n",
       "<style scoped>\n",
       "    .dataframe tbody tr th:only-of-type {\n",
       "        vertical-align: middle;\n",
       "    }\n",
       "\n",
       "    .dataframe tbody tr th {\n",
       "        vertical-align: top;\n",
       "    }\n",
       "\n",
       "    .dataframe thead th {\n",
       "        text-align: right;\n",
       "    }\n",
       "</style>\n",
       "<table border=\"1\" class=\"dataframe\">\n",
       "  <thead>\n",
       "    <tr style=\"text-align: right;\">\n",
       "      <th></th>\n",
       "      <th>seller_id</th>\n",
       "      <th>costs</th>\n",
       "    </tr>\n",
       "  </thead>\n",
       "  <tbody>\n",
       "    <tr>\n",
       "      <th>1482</th>\n",
       "      <td>7cf4ea70955b00d6b3c22542598e2715</td>\n",
       "      <td>0</td>\n",
       "    </tr>\n",
       "    <tr>\n",
       "      <th>2061</th>\n",
       "      <td>b2eecf5ea250510da76590ca79d60e5d</td>\n",
       "      <td>0</td>\n",
       "    </tr>\n",
       "    <tr>\n",
       "      <th>2062</th>\n",
       "      <td>b2f4d63c7203f539a78252565ca32257</td>\n",
       "      <td>0</td>\n",
       "    </tr>\n",
       "  </tbody>\n",
       "</table>\n",
       "</div>"
      ],
      "text/plain": [
       "                             seller_id  costs\n",
       "1482  7cf4ea70955b00d6b3c22542598e2715      0\n",
       "2061  b2eecf5ea250510da76590ca79d60e5d      0\n",
       "2062  b2f4d63c7203f539a78252565ca32257      0"
      ]
     },
     "execution_count": 27,
     "metadata": {},
     "output_type": "execute_result"
    }
   ],
   "source": [
    "olist_costs = costs_1.groupby('seller_id').sum().reset_index()\n",
    "olist_costs.sort_values(by = 'costs') .head(3)"
   ]
  },
  {
   "cell_type": "code",
   "execution_count": 28,
   "metadata": {},
   "outputs": [
    {
     "data": {
      "text/html": [
       "<div>\n",
       "<style scoped>\n",
       "    .dataframe tbody tr th:only-of-type {\n",
       "        vertical-align: middle;\n",
       "    }\n",
       "\n",
       "    .dataframe tbody tr th {\n",
       "        vertical-align: top;\n",
       "    }\n",
       "\n",
       "    .dataframe thead th {\n",
       "        text-align: right;\n",
       "    }\n",
       "</style>\n",
       "<table border=\"1\" class=\"dataframe\">\n",
       "  <thead>\n",
       "    <tr style=\"text-align: right;\">\n",
       "      <th></th>\n",
       "      <th>seller_id</th>\n",
       "      <th>costs</th>\n",
       "    </tr>\n",
       "  </thead>\n",
       "  <tbody>\n",
       "    <tr>\n",
       "      <th>358</th>\n",
       "      <td>1f50f920176fa81dab994f9023523100</td>\n",
       "      <td>37950</td>\n",
       "    </tr>\n",
       "    <tr>\n",
       "      <th>857</th>\n",
       "      <td>4a3ca9315b744ce9f8e9374361493884</td>\n",
       "      <td>43510</td>\n",
       "    </tr>\n",
       "    <tr>\n",
       "      <th>1478</th>\n",
       "      <td>7c67e1448b00f6e969d365cea6b010ab</td>\n",
       "      <td>43990</td>\n",
       "    </tr>\n",
       "  </tbody>\n",
       "</table>\n",
       "</div>"
      ],
      "text/plain": [
       "                             seller_id  costs\n",
       "358   1f50f920176fa81dab994f9023523100  37950\n",
       "857   4a3ca9315b744ce9f8e9374361493884  43510\n",
       "1478  7c67e1448b00f6e969d365cea6b010ab  43990"
      ]
     },
     "execution_count": 28,
     "metadata": {},
     "output_type": "execute_result"
    }
   ],
   "source": [
    "olist_costs.sort_values(by = 'costs') .tail(3)"
   ]
  },
  {
   "cell_type": "code",
   "execution_count": 29,
   "metadata": {},
   "outputs": [
    {
     "name": "stdout",
     "output_type": "stream",
     "text": [
      "The costs associated with all this :  1837830\n"
     ]
    }
   ],
   "source": [
    "total_costs = olist_costs['costs'].sum()\n",
    "print(\"The costs associated with all this : \", total_costs )"
   ]
  },
  {
   "cell_type": "code",
   "execution_count": 30,
   "metadata": {},
   "outputs": [
    {
     "data": {
      "text/plain": [
       "Text(0, 0.5, 'Costs')"
      ]
     },
     "execution_count": 30,
     "metadata": {},
     "output_type": "execute_result"
    },
    {
     "data": {
      "image/png": "[encoded data removed]",
      "text/plain": [
       "<Figure size 640x480 with 1 Axes>"
      ]
     },
     "metadata": {},
     "output_type": "display_data"
    }
   ],
   "source": [
    "sorted_costs = olist_costs.sort_values(by='costs').reset_index()\n",
    "sorted_costs.costs.plot();\n",
    "plt.xlabel('sellers'); plt.ylabel('Costs')"
   ]
  },
  {
   "cell_type": "code",
   "execution_count": 31,
   "metadata": {},
   "outputs": [
    {
     "data": {
      "text/plain": [
       "Text(0, 0.5, 'Cumulative sum of Costs')"
      ]
     },
     "execution_count": 31,
     "metadata": {},
     "output_type": "execute_result"
    },
    {
     "data": {
      "image/png": "[encoded data removed]",
      "text/plain": [
       "<Figure size 640x480 with 1 Axes>"
      ]
     },
     "metadata": {},
     "output_type": "display_data"
    }
   ],
   "source": [
    "np.cumsum(sorted_costs.costs).plot();\n",
    "plt.xlabel('sellers'); plt.ylabel('Cumulative sum of Costs')"
   ]
  },
  {
   "cell_type": "markdown",
   "metadata": {},
   "source": [
    "## Plotting Revenue and Costs Together"
   ]
  },
  {
   "cell_type": "code",
   "execution_count": 32,
   "metadata": {},
   "outputs": [
    {
     "data": {
      "text/plain": [
       "<matplotlib.legend.Legend at 0x7fb3563fb400>"
      ]
     },
     "execution_count": 32,
     "metadata": {},
     "output_type": "execute_result"
    },
    {
     "data": {
      "image/png": "[encoded data removed]",
      "text/plain": [
       "<Figure size 640x480 with 1 Axes>"
      ]
     },
     "metadata": {},
     "output_type": "display_data"
    }
   ],
   "source": [
    "# Revenues\n",
    "np.cumsum(sorted_sellers_1.revenues).plot( label ='Total Revenue');\n",
    "plt.xlabel('sellers'); plt.ylabel('Cumulative sum of revenues')\n",
    "\n",
    "# Costs\n",
    "np.cumsum(sorted_costs.costs).plot(color = 'r', label = 'Costs');\n",
    "plt.legend()"
   ]
  },
  {
   "cell_type": "code",
   "execution_count": 33,
   "metadata": {},
   "outputs": [
    {
     "name": "stdout",
     "output_type": "stream",
     "text": [
      " Total Revenue :  2787067.43\n",
      " Total Costs :  1837830\n",
      " The total resulting profits :  949237.43\n"
     ]
    }
   ],
   "source": [
    "print( \" Total Revenue : \", round(total_revenues, 2))\n",
    "print( \" Total Costs : \", round(total_costs, 2))\n",
    "\n",
    "profits =  total_revenues - total_costs\n",
    "print( \" The total resulting profits : \", round(profits, 2))"
   ]
  },
  {
   "cell_type": "markdown",
   "metadata": {},
   "source": [
    "## Resulting Final Profits Excl. IT Costs"
   ]
  },
  {
   "cell_type": "code",
   "execution_count": 34,
   "metadata": {},
   "outputs": [
    {
     "name": "stdout",
     "output_type": "stream",
     "text": [
      "The final resulting profits :  449237.43\n"
     ]
    }
   ],
   "source": [
    "IT_costs = 500_000\n",
    "print(\"The final resulting profits : \",  round(profits - IT_costs, 2))"
   ]
  },
  {
   "cell_type": "markdown",
   "metadata": {},
   "source": [
    "### 2.2 What-if Analysis"
   ]
  },
  {
   "cell_type": "markdown",
   "metadata": {},
   "source": [
    "👉 Time to perform the actual analysis, here are our steps:  \n",
    "\n",
    "1️⃣ Create a method that will help us update the IT Costs after removing sellers along with the products they sold\n",
    "\n",
    "2️⃣ Sort sellers by increasing profits\n",
    "\n",
    "3️⃣ Remove sellers one by one, starting from the one with the lowest profit.\n",
    "- For each number of sellers to remove, compute the financial impact on Olist global profits.\n",
    "\n",
    "4️⃣ Find an optimal number of sellers to remove that maximizes either Olist's profit margin or profit."
   ]
  },
  {
   "cell_type": "markdown",
   "metadata": {},
   "source": [
    "## 3. Investigate other Approaches 🕵️\n",
    "*(optional)*"
   ]
  },
  {
   "cell_type": "markdown",
   "metadata": {},
   "source": [
    "- Should Olist remove the worst performing products / categories from its marketplace entirely?\n",
    "- Should Olist remove only consistently underperforming sellers, after it has a honeymoon period of few months?\n",
    "- Should Olist restrict seller/customer pairs between certain states to avoid delays?\n",
    "- Should Olist acquire new sellers, with some cost assumptions to be suggested?\n",
    "- ...\n"
   ]
  },
  {
   "cell_type": "markdown",
   "metadata": {},
   "source": [
    "## Your turn!"
   ]
  },
  {
   "cell_type": "markdown",
   "metadata": {},
   "source": [
    "🧺 Keep this notebook tidy! \n",
    "\n",
    "🗣 📊 You will present your insights to your favorite TA at the end of this `Communicate` unit 💪"
   ]
  },
  {
   "cell_type": "code",
   "execution_count": 35,
   "metadata": {},
   "outputs": [
    {
     "data": {
      "text/html": [
       "<div>\n",
       "<style scoped>\n",
       "    .dataframe tbody tr th:only-of-type {\n",
       "        vertical-align: middle;\n",
       "    }\n",
       "\n",
       "    .dataframe tbody tr th {\n",
       "        vertical-align: top;\n",
       "    }\n",
       "\n",
       "    .dataframe thead th {\n",
       "        text-align: right;\n",
       "    }\n",
       "</style>\n",
       "<table border=\"1\" class=\"dataframe\">\n",
       "  <thead>\n",
       "    <tr style=\"text-align: right;\">\n",
       "      <th></th>\n",
       "      <th>seller_id</th>\n",
       "      <th>seller_city</th>\n",
       "      <th>seller_state</th>\n",
       "      <th>delay_to_carrier</th>\n",
       "      <th>wait_time</th>\n",
       "      <th>date_first_sale</th>\n",
       "      <th>date_last_sale</th>\n",
       "      <th>months_on_olist</th>\n",
       "      <th>share_of_one_stars</th>\n",
       "      <th>share_of_five_stars</th>\n",
       "      <th>review_score</th>\n",
       "      <th>cost_of_reviews</th>\n",
       "      <th>n_orders</th>\n",
       "      <th>quantity</th>\n",
       "      <th>quantity_per_order</th>\n",
       "      <th>sales</th>\n",
       "      <th>revenues</th>\n",
       "      <th>profits</th>\n",
       "    </tr>\n",
       "  </thead>\n",
       "  <tbody>\n",
       "    <tr>\n",
       "      <th>0</th>\n",
       "      <td>3442f8959a84dea7ee197c632cb2df15</td>\n",
       "      <td>campinas</td>\n",
       "      <td>SP</td>\n",
       "      <td>0.000000</td>\n",
       "      <td>13.018588</td>\n",
       "      <td>2017-05-05 16:25:11</td>\n",
       "      <td>2017-08-30 12:50:19</td>\n",
       "      <td>4.0</td>\n",
       "      <td>0.333333</td>\n",
       "      <td>0.333333</td>\n",
       "      <td>3.00</td>\n",
       "      <td>140</td>\n",
       "      <td>3</td>\n",
       "      <td>3</td>\n",
       "      <td>1.000000</td>\n",
       "      <td>218.70</td>\n",
       "      <td>341.870</td>\n",
       "      <td>201.870</td>\n",
       "    </tr>\n",
       "    <tr>\n",
       "      <th>1</th>\n",
       "      <td>d1b65fc7debc3361ea86b5f14c68d2e2</td>\n",
       "      <td>mogi guacu</td>\n",
       "      <td>SP</td>\n",
       "      <td>0.000000</td>\n",
       "      <td>9.065716</td>\n",
       "      <td>2017-03-29 02:10:34</td>\n",
       "      <td>2018-06-06 20:15:21</td>\n",
       "      <td>14.0</td>\n",
       "      <td>0.050000</td>\n",
       "      <td>0.725000</td>\n",
       "      <td>4.55</td>\n",
       "      <td>240</td>\n",
       "      <td>40</td>\n",
       "      <td>41</td>\n",
       "      <td>1.025000</td>\n",
       "      <td>11703.07</td>\n",
       "      <td>2290.307</td>\n",
       "      <td>2050.307</td>\n",
       "    </tr>\n",
       "    <tr>\n",
       "      <th>2</th>\n",
       "      <td>ce3ad9de960102d0677a81f5d0bb7b2d</td>\n",
       "      <td>rio de janeiro</td>\n",
       "      <td>RJ</td>\n",
       "      <td>0.000000</td>\n",
       "      <td>4.042292</td>\n",
       "      <td>2018-07-30 12:44:49</td>\n",
       "      <td>2018-07-30 12:44:49</td>\n",
       "      <td>0.0</td>\n",
       "      <td>0.000000</td>\n",
       "      <td>1.000000</td>\n",
       "      <td>5.00</td>\n",
       "      <td>0</td>\n",
       "      <td>1</td>\n",
       "      <td>1</td>\n",
       "      <td>1.000000</td>\n",
       "      <td>158.00</td>\n",
       "      <td>15.800</td>\n",
       "      <td>15.800</td>\n",
       "    </tr>\n",
       "    <tr>\n",
       "      <th>3</th>\n",
       "      <td>c0f3eea2e14555b6faeea3dd58c1b1c3</td>\n",
       "      <td>sao paulo</td>\n",
       "      <td>SP</td>\n",
       "      <td>0.000000</td>\n",
       "      <td>5.667187</td>\n",
       "      <td>2018-08-03 00:44:08</td>\n",
       "      <td>2018-08-03 00:44:08</td>\n",
       "      <td>0.0</td>\n",
       "      <td>0.000000</td>\n",
       "      <td>1.000000</td>\n",
       "      <td>5.00</td>\n",
       "      <td>0</td>\n",
       "      <td>1</td>\n",
       "      <td>1</td>\n",
       "      <td>1.000000</td>\n",
       "      <td>79.99</td>\n",
       "      <td>7.999</td>\n",
       "      <td>7.999</td>\n",
       "    </tr>\n",
       "    <tr>\n",
       "      <th>4</th>\n",
       "      <td>51a04a8a6bdcb23deccc82b0b80742cf</td>\n",
       "      <td>braganca paulista</td>\n",
       "      <td>SP</td>\n",
       "      <td>3.353727</td>\n",
       "      <td>35.314861</td>\n",
       "      <td>2017-11-14 12:15:25</td>\n",
       "      <td>2017-11-14 12:15:25</td>\n",
       "      <td>0.0</td>\n",
       "      <td>1.000000</td>\n",
       "      <td>0.000000</td>\n",
       "      <td>1.00</td>\n",
       "      <td>100</td>\n",
       "      <td>1</td>\n",
       "      <td>1</td>\n",
       "      <td>1.000000</td>\n",
       "      <td>167.99</td>\n",
       "      <td>16.799</td>\n",
       "      <td>-83.201</td>\n",
       "    </tr>\n",
       "    <tr>\n",
       "      <th>...</th>\n",
       "      <td>...</td>\n",
       "      <td>...</td>\n",
       "      <td>...</td>\n",
       "      <td>...</td>\n",
       "      <td>...</td>\n",
       "      <td>...</td>\n",
       "      <td>...</td>\n",
       "      <td>...</td>\n",
       "      <td>...</td>\n",
       "      <td>...</td>\n",
       "      <td>...</td>\n",
       "      <td>...</td>\n",
       "      <td>...</td>\n",
       "      <td>...</td>\n",
       "      <td>...</td>\n",
       "      <td>...</td>\n",
       "      <td>...</td>\n",
       "      <td>...</td>\n",
       "    </tr>\n",
       "    <tr>\n",
       "      <th>2962</th>\n",
       "      <td>98dddbc4601dd4443ca174359b237166</td>\n",
       "      <td>sarandi</td>\n",
       "      <td>PR</td>\n",
       "      <td>0.000000</td>\n",
       "      <td>8.230822</td>\n",
       "      <td>2018-07-14 03:10:19</td>\n",
       "      <td>2018-07-23 15:34:03</td>\n",
       "      <td>0.0</td>\n",
       "      <td>0.000000</td>\n",
       "      <td>1.000000</td>\n",
       "      <td>5.00</td>\n",
       "      <td>0</td>\n",
       "      <td>2</td>\n",
       "      <td>2</td>\n",
       "      <td>1.000000</td>\n",
       "      <td>158.00</td>\n",
       "      <td>15.800</td>\n",
       "      <td>15.800</td>\n",
       "    </tr>\n",
       "    <tr>\n",
       "      <th>2963</th>\n",
       "      <td>f8201cab383e484733266d1906e2fdfa</td>\n",
       "      <td>palhoca</td>\n",
       "      <td>SC</td>\n",
       "      <td>0.000000</td>\n",
       "      <td>13.045797</td>\n",
       "      <td>2017-06-17 15:30:11</td>\n",
       "      <td>2018-08-11 19:55:17</td>\n",
       "      <td>14.0</td>\n",
       "      <td>0.100000</td>\n",
       "      <td>0.500000</td>\n",
       "      <td>4.10</td>\n",
       "      <td>140</td>\n",
       "      <td>10</td>\n",
       "      <td>10</td>\n",
       "      <td>1.000000</td>\n",
       "      <td>889.00</td>\n",
       "      <td>1208.900</td>\n",
       "      <td>1068.900</td>\n",
       "    </tr>\n",
       "    <tr>\n",
       "      <th>2964</th>\n",
       "      <td>74871d19219c7d518d0090283e03c137</td>\n",
       "      <td>sao paulo</td>\n",
       "      <td>SP</td>\n",
       "      <td>0.000000</td>\n",
       "      <td>3.606625</td>\n",
       "      <td>2018-04-05 17:09:46</td>\n",
       "      <td>2018-08-21 19:25:15</td>\n",
       "      <td>5.0</td>\n",
       "      <td>0.000000</td>\n",
       "      <td>1.000000</td>\n",
       "      <td>5.00</td>\n",
       "      <td>0</td>\n",
       "      <td>6</td>\n",
       "      <td>7</td>\n",
       "      <td>1.166667</td>\n",
       "      <td>550.04</td>\n",
       "      <td>455.004</td>\n",
       "      <td>455.004</td>\n",
       "    </tr>\n",
       "    <tr>\n",
       "      <th>2965</th>\n",
       "      <td>e603cf3fec55f8697c9059638d6c8eb5</td>\n",
       "      <td>pelotas</td>\n",
       "      <td>RS</td>\n",
       "      <td>0.000000</td>\n",
       "      <td>6.657634</td>\n",
       "      <td>2017-02-09 02:43:17</td>\n",
       "      <td>2017-06-16 17:30:16</td>\n",
       "      <td>4.0</td>\n",
       "      <td>0.000000</td>\n",
       "      <td>0.500000</td>\n",
       "      <td>4.25</td>\n",
       "      <td>50</td>\n",
       "      <td>8</td>\n",
       "      <td>11</td>\n",
       "      <td>1.375000</td>\n",
       "      <td>297.00</td>\n",
       "      <td>349.700</td>\n",
       "      <td>299.700</td>\n",
       "    </tr>\n",
       "    <tr>\n",
       "      <th>2966</th>\n",
       "      <td>9e25199f6ef7e7c347120ff175652c3b</td>\n",
       "      <td>taubate</td>\n",
       "      <td>SP</td>\n",
       "      <td>0.000000</td>\n",
       "      <td>8.199456</td>\n",
       "      <td>2017-03-27 10:10:27</td>\n",
       "      <td>2017-03-27 10:10:27</td>\n",
       "      <td>0.0</td>\n",
       "      <td>0.000000</td>\n",
       "      <td>0.000000</td>\n",
       "      <td>4.00</td>\n",
       "      <td>0</td>\n",
       "      <td>1</td>\n",
       "      <td>1</td>\n",
       "      <td>1.000000</td>\n",
       "      <td>12.50</td>\n",
       "      <td>1.250</td>\n",
       "      <td>1.250</td>\n",
       "    </tr>\n",
       "  </tbody>\n",
       "</table>\n",
       "<p>2967 rows × 18 columns</p>\n",
       "</div>"
      ],
      "text/plain": [
       "                             seller_id        seller_city seller_state  \\\n",
       "0     3442f8959a84dea7ee197c632cb2df15           campinas           SP   \n",
       "1     d1b65fc7debc3361ea86b5f14c68d2e2         mogi guacu           SP   \n",
       "2     ce3ad9de960102d0677a81f5d0bb7b2d     rio de janeiro           RJ   \n",
       "3     c0f3eea2e14555b6faeea3dd58c1b1c3          sao paulo           SP   \n",
       "4     51a04a8a6bdcb23deccc82b0b80742cf  braganca paulista           SP   \n",
       "...                                ...                ...          ...   \n",
       "2962  98dddbc4601dd4443ca174359b237166            sarandi           PR   \n",
       "2963  f8201cab383e484733266d1906e2fdfa            palhoca           SC   \n",
       "2964  74871d19219c7d518d0090283e03c137          sao paulo           SP   \n",
       "2965  e603cf3fec55f8697c9059638d6c8eb5            pelotas           RS   \n",
       "2966  9e25199f6ef7e7c347120ff175652c3b            taubate           SP   \n",
       "\n",
       "      delay_to_carrier  wait_time     date_first_sale      date_last_sale  \\\n",
       "0             0.000000  13.018588 2017-05-05 16:25:11 2017-08-30 12:50:19   \n",
       "1             0.000000   9.065716 2017-03-29 02:10:34 2018-06-06 20:15:21   \n",
       "2             0.000000   4.042292 2018-07-30 12:44:49 2018-07-30 12:44:49   \n",
       "3             0.000000   5.667187 2018-08-03 00:44:08 2018-08-03 00:44:08   \n",
       "4             3.353727  35.314861 2017-11-14 12:15:25 2017-11-14 12:15:25   \n",
       "...                ...        ...                 ...                 ...   \n",
       "2962          0.000000   8.230822 2018-07-14 03:10:19 2018-07-23 15:34:03   \n",
       "2963          0.000000  13.045797 2017-06-17 15:30:11 2018-08-11 19:55:17   \n",
       "2964          0.000000   3.606625 2018-04-05 17:09:46 2018-08-21 19:25:15   \n",
       "2965          0.000000   6.657634 2017-02-09 02:43:17 2017-06-16 17:30:16   \n",
       "2966          0.000000   8.199456 2017-03-27 10:10:27 2017-03-27 10:10:27   \n",
       "\n",
       "      months_on_olist  share_of_one_stars  share_of_five_stars  review_score  \\\n",
       "0                 4.0            0.333333             0.333333          3.00   \n",
       "1                14.0            0.050000             0.725000          4.55   \n",
       "2                 0.0            0.000000             1.000000          5.00   \n",
       "3                 0.0            0.000000             1.000000          5.00   \n",
       "4                 0.0            1.000000             0.000000          1.00   \n",
       "...               ...                 ...                  ...           ...   \n",
       "2962              0.0            0.000000             1.000000          5.00   \n",
       "2963             14.0            0.100000             0.500000          4.10   \n",
       "2964              5.0            0.000000             1.000000          5.00   \n",
       "2965              4.0            0.000000             0.500000          4.25   \n",
       "2966              0.0            0.000000             0.000000          4.00   \n",
       "\n",
       "      cost_of_reviews  n_orders  quantity  quantity_per_order     sales  \\\n",
       "0                 140         3         3            1.000000    218.70   \n",
       "1                 240        40        41            1.025000  11703.07   \n",
       "2                   0         1         1            1.000000    158.00   \n",
       "3                   0         1         1            1.000000     79.99   \n",
       "4                 100         1         1            1.000000    167.99   \n",
       "...               ...       ...       ...                 ...       ...   \n",
       "2962                0         2         2            1.000000    158.00   \n",
       "2963              140        10        10            1.000000    889.00   \n",
       "2964                0         6         7            1.166667    550.04   \n",
       "2965               50         8        11            1.375000    297.00   \n",
       "2966                0         1         1            1.000000     12.50   \n",
       "\n",
       "      revenues   profits  \n",
       "0      341.870   201.870  \n",
       "1     2290.307  2050.307  \n",
       "2       15.800    15.800  \n",
       "3        7.999     7.999  \n",
       "4       16.799   -83.201  \n",
       "...        ...       ...  \n",
       "2962    15.800    15.800  \n",
       "2963  1208.900  1068.900  \n",
       "2964   455.004   455.004  \n",
       "2965   349.700   299.700  \n",
       "2966     1.250     1.250  \n",
       "\n",
       "[2967 rows x 18 columns]"
      ]
     },
     "execution_count": 35,
     "metadata": {},
     "output_type": "execute_result"
    }
   ],
   "source": [
    "selle=sellers.copy()\n",
    "selle"
   ]
  },
  {
   "cell_type": "code",
   "execution_count": 36,
   "metadata": {},
   "outputs": [
    {
     "data": {
      "text/html": [
       "<div>\n",
       "<style scoped>\n",
       "    .dataframe tbody tr th:only-of-type {\n",
       "        vertical-align: middle;\n",
       "    }\n",
       "\n",
       "    .dataframe tbody tr th {\n",
       "        vertical-align: top;\n",
       "    }\n",
       "\n",
       "    .dataframe thead th {\n",
       "        text-align: right;\n",
       "    }\n",
       "</style>\n",
       "<table border=\"1\" class=\"dataframe\">\n",
       "  <thead>\n",
       "    <tr style=\"text-align: right;\">\n",
       "      <th></th>\n",
       "      <th>seller_id</th>\n",
       "      <th>costs</th>\n",
       "    </tr>\n",
       "  </thead>\n",
       "  <tbody>\n",
       "    <tr>\n",
       "      <th>0</th>\n",
       "      <td>0015a82c2db000af6aaaf3ae2ecb0532</td>\n",
       "      <td>100</td>\n",
       "    </tr>\n",
       "  </tbody>\n",
       "</table>\n",
       "</div>"
      ],
      "text/plain": [
       "                          seller_id  costs\n",
       "0  0015a82c2db000af6aaaf3ae2ecb0532    100"
      ]
     },
     "execution_count": 36,
     "metadata": {},
     "output_type": "execute_result"
    }
   ],
   "source": [
    "olist_costs.head(1)"
   ]
  },
  {
   "cell_type": "code",
   "execution_count": 37,
   "metadata": {},
   "outputs": [],
   "source": [
    "profits_seller = sellers_1.merge(olist_costs, on = 'seller_id')\n",
    "\n",
    "# we only keep the columns of interest\n",
    "profits_seller = profits_seller[ ['seller_id', \n",
    "                                   'revenues',\n",
    "                                  'costs' , 'active_months' , 'sales' ] ]\n",
    "\n",
    "# we create a new column profits\n",
    "profits_seller['profits'] = profits_seller['revenues'] - profits_seller['costs']"
   ]
  },
  {
   "cell_type": "code",
   "execution_count": 38,
   "metadata": {},
   "outputs": [
    {
     "data": {
      "text/html": [
       "<div>\n",
       "<style scoped>\n",
       "    .dataframe tbody tr th:only-of-type {\n",
       "        vertical-align: middle;\n",
       "    }\n",
       "\n",
       "    .dataframe tbody tr th {\n",
       "        vertical-align: top;\n",
       "    }\n",
       "\n",
       "    .dataframe thead th {\n",
       "        text-align: right;\n",
       "    }\n",
       "</style>\n",
       "<table border=\"1\" class=\"dataframe\">\n",
       "  <thead>\n",
       "    <tr style=\"text-align: right;\">\n",
       "      <th></th>\n",
       "      <th>index</th>\n",
       "      <th>seller_id</th>\n",
       "      <th>revenues</th>\n",
       "      <th>costs</th>\n",
       "      <th>active_months</th>\n",
       "      <th>sales</th>\n",
       "      <th>profits</th>\n",
       "    </tr>\n",
       "  </thead>\n",
       "  <tbody>\n",
       "    <tr>\n",
       "      <th>0</th>\n",
       "      <td>453</td>\n",
       "      <td>1f50f920176fa81dab994f9023523100</td>\n",
       "      <td>12037.631123</td>\n",
       "      <td>37950</td>\n",
       "      <td>16.796377</td>\n",
       "      <td>106939.21</td>\n",
       "      <td>-25912.368877</td>\n",
       "    </tr>\n",
       "    <tr>\n",
       "      <th>1</th>\n",
       "      <td>1131</td>\n",
       "      <td>7c67e1448b00f6e969d365cea6b010ab</td>\n",
       "      <td>20259.497200</td>\n",
       "      <td>43990</td>\n",
       "      <td>18.338852</td>\n",
       "      <td>187923.89</td>\n",
       "      <td>-23730.502800</td>\n",
       "    </tr>\n",
       "  </tbody>\n",
       "</table>\n",
       "</div>"
      ],
      "text/plain": [
       "   index                         seller_id      revenues  costs  \\\n",
       "0    453  1f50f920176fa81dab994f9023523100  12037.631123  37950   \n",
       "1   1131  7c67e1448b00f6e969d365cea6b010ab  20259.497200  43990   \n",
       "\n",
       "   active_months      sales       profits  \n",
       "0      16.796377  106939.21 -25912.368877  \n",
       "1      18.338852  187923.89 -23730.502800  "
      ]
     },
     "execution_count": 38,
     "metadata": {},
     "output_type": "execute_result"
    }
   ],
   "source": [
    "sorted_profits = profits_seller .sort_values(by = 'profits').reset_index()\n",
    "sorted_profits.head(2)"
   ]
  },
  {
   "cell_type": "code",
   "execution_count": 39,
   "metadata": {},
   "outputs": [
    {
     "data": {
      "text/html": [
       "<div>\n",
       "<style scoped>\n",
       "    .dataframe tbody tr th:only-of-type {\n",
       "        vertical-align: middle;\n",
       "    }\n",
       "\n",
       "    .dataframe tbody tr th {\n",
       "        vertical-align: top;\n",
       "    }\n",
       "\n",
       "    .dataframe thead th {\n",
       "        text-align: right;\n",
       "    }\n",
       "</style>\n",
       "<table border=\"1\" class=\"dataframe\">\n",
       "  <thead>\n",
       "    <tr style=\"text-align: right;\">\n",
       "      <th></th>\n",
       "      <th>index</th>\n",
       "      <th>seller_id</th>\n",
       "      <th>revenues</th>\n",
       "      <th>costs</th>\n",
       "      <th>active_months</th>\n",
       "      <th>sales</th>\n",
       "      <th>profits</th>\n",
       "    </tr>\n",
       "  </thead>\n",
       "  <tbody>\n",
       "    <tr>\n",
       "      <th>2963</th>\n",
       "      <td>67</td>\n",
       "      <td>7e93a43ef30c4f03f38b393420bc753a</td>\n",
       "      <td>19337.853177</td>\n",
       "      <td>3260</td>\n",
       "      <td>21.183327</td>\n",
       "      <td>176431.87</td>\n",
       "      <td>16077.853177</td>\n",
       "    </tr>\n",
       "    <tr>\n",
       "      <th>2964</th>\n",
       "      <td>868</td>\n",
       "      <td>53243585a1d6dc2643021fd1853d8905</td>\n",
       "      <td>23218.332447</td>\n",
       "      <td>5350</td>\n",
       "      <td>11.759093</td>\n",
       "      <td>222776.05</td>\n",
       "      <td>17868.332447</td>\n",
       "    </tr>\n",
       "  </tbody>\n",
       "</table>\n",
       "</div>"
      ],
      "text/plain": [
       "      index                         seller_id      revenues  costs  \\\n",
       "2963     67  7e93a43ef30c4f03f38b393420bc753a  19337.853177   3260   \n",
       "2964    868  53243585a1d6dc2643021fd1853d8905  23218.332447   5350   \n",
       "\n",
       "      active_months      sales       profits  \n",
       "2963      21.183327  176431.87  16077.853177  \n",
       "2964      11.759093  222776.05  17868.332447  "
      ]
     },
     "execution_count": 39,
     "metadata": {},
     "output_type": "execute_result"
    }
   ],
   "source": [
    "sorted_profits.tail(2)"
   ]
  },
  {
   "cell_type": "code",
   "execution_count": 40,
   "metadata": {},
   "outputs": [
    {
     "name": "stdout",
     "output_type": "stream",
     "text": [
      " The resulting profits for all sellers :  948423.22\n"
     ]
    }
   ],
   "source": [
    "print(\" The resulting profits for all sellers : \", round( sorted_profits.profits.sum(), 2) )"
   ]
  },
  {
   "cell_type": "code",
   "execution_count": 41,
   "metadata": {},
   "outputs": [
    {
     "data": {
      "text/plain": [
       "Text(0, 0.5, 'Profits')"
      ]
     },
     "execution_count": 41,
     "metadata": {},
     "output_type": "execute_result"
    },
    {
     "data": {
      "image/png": "[encoded data removed]",
      "text/plain": [
       "<Figure size 640x480 with 1 Axes>"
      ]
     },
     "metadata": {},
     "output_type": "display_data"
    }
   ],
   "source": [
    "sorted_profits.profits.plot()\n",
    "plt.xlabel('sellers_rows'); plt.ylabel('Profits')"
   ]
  },
  {
   "cell_type": "code",
   "execution_count": 42,
   "metadata": {},
   "outputs": [
    {
     "data": {
      "text/plain": [
       "<matplotlib.legend.Legend at 0x7fb35644f1f0>"
      ]
     },
     "execution_count": 42,
     "metadata": {},
     "output_type": "execute_result"
    },
    {
     "data": {
      "image/png": "[encoded data removed]",
      "text/plain": [
       "<Figure size 640x480 with 1 Axes>"
      ]
     },
     "metadata": {},
     "output_type": "display_data"
    }
   ],
   "source": [
    "# Revenues\n",
    "np.cumsum(sorted_sellers_1.revenues).plot( label ='Total Revenue');\n",
    "plt.xlabel('sellers_rows'); \n",
    "# Costs\n",
    "np.cumsum(sorted_costs.costs).plot(color = 'r', label = 'Total Costs');\n",
    "# Profits\n",
    "np.cumsum(sorted_profits.profits).plot(color = 'green', label = 'Profits');\n",
    "\n",
    "plt.legend()"
   ]
  },
  {
   "cell_type": "code",
   "execution_count": 44,
   "metadata": {},
   "outputs": [
    {
     "data": {
      "text/html": [
       "<div>\n",
       "<style scoped>\n",
       "    .dataframe tbody tr th:only-of-type {\n",
       "        vertical-align: middle;\n",
       "    }\n",
       "\n",
       "    .dataframe tbody tr th {\n",
       "        vertical-align: top;\n",
       "    }\n",
       "\n",
       "    .dataframe thead th {\n",
       "        text-align: right;\n",
       "    }\n",
       "</style>\n",
       "<table border=\"1\" class=\"dataframe\">\n",
       "  <thead>\n",
       "    <tr style=\"text-align: right;\">\n",
       "      <th></th>\n",
       "      <th>seller_id</th>\n",
       "      <th>seller_city</th>\n",
       "      <th>seller_state</th>\n",
       "      <th>delay_to_carrier</th>\n",
       "      <th>wait_time</th>\n",
       "      <th>date_first_sale</th>\n",
       "      <th>date_last_sale</th>\n",
       "      <th>months_on_olist</th>\n",
       "      <th>share_of_one_stars</th>\n",
       "      <th>share_of_five_stars</th>\n",
       "      <th>review_score</th>\n",
       "      <th>cost_of_reviews</th>\n",
       "      <th>n_orders</th>\n",
       "      <th>quantity</th>\n",
       "      <th>quantity_per_order</th>\n",
       "      <th>sales</th>\n",
       "      <th>revenues</th>\n",
       "      <th>profits</th>\n",
       "    </tr>\n",
       "  </thead>\n",
       "  <tbody>\n",
       "    <tr>\n",
       "      <th>0</th>\n",
       "      <td>3442f8959a84dea7ee197c632cb2df15</td>\n",
       "      <td>campinas</td>\n",
       "      <td>SP</td>\n",
       "      <td>0.000000</td>\n",
       "      <td>13.018588</td>\n",
       "      <td>2017-05-05 16:25:11</td>\n",
       "      <td>2017-08-30 12:50:19</td>\n",
       "      <td>4.0</td>\n",
       "      <td>0.333333</td>\n",
       "      <td>0.333333</td>\n",
       "      <td>3.00</td>\n",
       "      <td>140</td>\n",
       "      <td>3</td>\n",
       "      <td>3</td>\n",
       "      <td>1.000</td>\n",
       "      <td>218.70</td>\n",
       "      <td>341.870</td>\n",
       "      <td>201.870</td>\n",
       "    </tr>\n",
       "    <tr>\n",
       "      <th>1</th>\n",
       "      <td>d1b65fc7debc3361ea86b5f14c68d2e2</td>\n",
       "      <td>mogi guacu</td>\n",
       "      <td>SP</td>\n",
       "      <td>0.000000</td>\n",
       "      <td>9.065716</td>\n",
       "      <td>2017-03-29 02:10:34</td>\n",
       "      <td>2018-06-06 20:15:21</td>\n",
       "      <td>14.0</td>\n",
       "      <td>0.050000</td>\n",
       "      <td>0.725000</td>\n",
       "      <td>4.55</td>\n",
       "      <td>240</td>\n",
       "      <td>40</td>\n",
       "      <td>41</td>\n",
       "      <td>1.025</td>\n",
       "      <td>11703.07</td>\n",
       "      <td>2290.307</td>\n",
       "      <td>2050.307</td>\n",
       "    </tr>\n",
       "    <tr>\n",
       "      <th>2</th>\n",
       "      <td>ce3ad9de960102d0677a81f5d0bb7b2d</td>\n",
       "      <td>rio de janeiro</td>\n",
       "      <td>RJ</td>\n",
       "      <td>0.000000</td>\n",
       "      <td>4.042292</td>\n",
       "      <td>2018-07-30 12:44:49</td>\n",
       "      <td>2018-07-30 12:44:49</td>\n",
       "      <td>0.0</td>\n",
       "      <td>0.000000</td>\n",
       "      <td>1.000000</td>\n",
       "      <td>5.00</td>\n",
       "      <td>0</td>\n",
       "      <td>1</td>\n",
       "      <td>1</td>\n",
       "      <td>1.000</td>\n",
       "      <td>158.00</td>\n",
       "      <td>15.800</td>\n",
       "      <td>15.800</td>\n",
       "    </tr>\n",
       "    <tr>\n",
       "      <th>3</th>\n",
       "      <td>c0f3eea2e14555b6faeea3dd58c1b1c3</td>\n",
       "      <td>sao paulo</td>\n",
       "      <td>SP</td>\n",
       "      <td>0.000000</td>\n",
       "      <td>5.667187</td>\n",
       "      <td>2018-08-03 00:44:08</td>\n",
       "      <td>2018-08-03 00:44:08</td>\n",
       "      <td>0.0</td>\n",
       "      <td>0.000000</td>\n",
       "      <td>1.000000</td>\n",
       "      <td>5.00</td>\n",
       "      <td>0</td>\n",
       "      <td>1</td>\n",
       "      <td>1</td>\n",
       "      <td>1.000</td>\n",
       "      <td>79.99</td>\n",
       "      <td>7.999</td>\n",
       "      <td>7.999</td>\n",
       "    </tr>\n",
       "    <tr>\n",
       "      <th>4</th>\n",
       "      <td>51a04a8a6bdcb23deccc82b0b80742cf</td>\n",
       "      <td>braganca paulista</td>\n",
       "      <td>SP</td>\n",
       "      <td>3.353727</td>\n",
       "      <td>35.314861</td>\n",
       "      <td>2017-11-14 12:15:25</td>\n",
       "      <td>2017-11-14 12:15:25</td>\n",
       "      <td>0.0</td>\n",
       "      <td>1.000000</td>\n",
       "      <td>0.000000</td>\n",
       "      <td>1.00</td>\n",
       "      <td>100</td>\n",
       "      <td>1</td>\n",
       "      <td>1</td>\n",
       "      <td>1.000</td>\n",
       "      <td>167.99</td>\n",
       "      <td>16.799</td>\n",
       "      <td>-83.201</td>\n",
       "    </tr>\n",
       "  </tbody>\n",
       "</table>\n",
       "</div>"
      ],
      "text/plain": [
       "                          seller_id        seller_city seller_state  \\\n",
       "0  3442f8959a84dea7ee197c632cb2df15           campinas           SP   \n",
       "1  d1b65fc7debc3361ea86b5f14c68d2e2         mogi guacu           SP   \n",
       "2  ce3ad9de960102d0677a81f5d0bb7b2d     rio de janeiro           RJ   \n",
       "3  c0f3eea2e14555b6faeea3dd58c1b1c3          sao paulo           SP   \n",
       "4  51a04a8a6bdcb23deccc82b0b80742cf  braganca paulista           SP   \n",
       "\n",
       "   delay_to_carrier  wait_time     date_first_sale      date_last_sale  \\\n",
       "0          0.000000  13.018588 2017-05-05 16:25:11 2017-08-30 12:50:19   \n",
       "1          0.000000   9.065716 2017-03-29 02:10:34 2018-06-06 20:15:21   \n",
       "2          0.000000   4.042292 2018-07-30 12:44:49 2018-07-30 12:44:49   \n",
       "3          0.000000   5.667187 2018-08-03 00:44:08 2018-08-03 00:44:08   \n",
       "4          3.353727  35.314861 2017-11-14 12:15:25 2017-11-14 12:15:25   \n",
       "\n",
       "   months_on_olist  share_of_one_stars  share_of_five_stars  review_score  \\\n",
       "0              4.0            0.333333             0.333333          3.00   \n",
       "1             14.0            0.050000             0.725000          4.55   \n",
       "2              0.0            0.000000             1.000000          5.00   \n",
       "3              0.0            0.000000             1.000000          5.00   \n",
       "4              0.0            1.000000             0.000000          1.00   \n",
       "\n",
       "   cost_of_reviews  n_orders  quantity  quantity_per_order     sales  \\\n",
       "0              140         3         3               1.000    218.70   \n",
       "1              240        40        41               1.025  11703.07   \n",
       "2                0         1         1               1.000    158.00   \n",
       "3                0         1         1               1.000     79.99   \n",
       "4              100         1         1               1.000    167.99   \n",
       "\n",
       "   revenues   profits  \n",
       "0   341.870   201.870  \n",
       "1  2290.307  2050.307  \n",
       "2    15.800    15.800  \n",
       "3     7.999     7.999  \n",
       "4    16.799   -83.201  "
      ]
     },
     "execution_count": 44,
     "metadata": {},
     "output_type": "execute_result"
    }
   ],
   "source": [
    "sellers.head()"
   ]
  },
  {
   "cell_type": "code",
   "execution_count": 45,
   "metadata": {},
   "outputs": [],
   "source": [
    "profits_seller = sellers.merge(olist_costs, on = 'seller_id')"
   ]
  },
  {
   "cell_type": "code",
   "execution_count": 48,
   "metadata": {},
   "outputs": [
    {
     "data": {
      "text/html": [
       "<div>\n",
       "<style scoped>\n",
       "    .dataframe tbody tr th:only-of-type {\n",
       "        vertical-align: middle;\n",
       "    }\n",
       "\n",
       "    .dataframe tbody tr th {\n",
       "        vertical-align: top;\n",
       "    }\n",
       "\n",
       "    .dataframe thead th {\n",
       "        text-align: right;\n",
       "    }\n",
       "</style>\n",
       "<table border=\"1\" class=\"dataframe\">\n",
       "  <thead>\n",
       "    <tr style=\"text-align: right;\">\n",
       "      <th></th>\n",
       "      <th>seller_id</th>\n",
       "      <th>n_orders</th>\n",
       "      <th>revenues</th>\n",
       "      <th>costs</th>\n",
       "      <th>sales</th>\n",
       "    </tr>\n",
       "  </thead>\n",
       "  <tbody>\n",
       "    <tr>\n",
       "      <th>0</th>\n",
       "      <td>3442f8959a84dea7ee197c632cb2df15</td>\n",
       "      <td>3</td>\n",
       "      <td>341.870</td>\n",
       "      <td>140</td>\n",
       "      <td>218.70</td>\n",
       "    </tr>\n",
       "    <tr>\n",
       "      <th>1</th>\n",
       "      <td>d1b65fc7debc3361ea86b5f14c68d2e2</td>\n",
       "      <td>40</td>\n",
       "      <td>2290.307</td>\n",
       "      <td>140</td>\n",
       "      <td>11703.07</td>\n",
       "    </tr>\n",
       "    <tr>\n",
       "      <th>2</th>\n",
       "      <td>ce3ad9de960102d0677a81f5d0bb7b2d</td>\n",
       "      <td>1</td>\n",
       "      <td>15.800</td>\n",
       "      <td>0</td>\n",
       "      <td>158.00</td>\n",
       "    </tr>\n",
       "    <tr>\n",
       "      <th>3</th>\n",
       "      <td>c0f3eea2e14555b6faeea3dd58c1b1c3</td>\n",
       "      <td>1</td>\n",
       "      <td>7.999</td>\n",
       "      <td>0</td>\n",
       "      <td>79.99</td>\n",
       "    </tr>\n",
       "    <tr>\n",
       "      <th>4</th>\n",
       "      <td>51a04a8a6bdcb23deccc82b0b80742cf</td>\n",
       "      <td>1</td>\n",
       "      <td>16.799</td>\n",
       "      <td>100</td>\n",
       "      <td>167.99</td>\n",
       "    </tr>\n",
       "    <tr>\n",
       "      <th>...</th>\n",
       "      <td>...</td>\n",
       "      <td>...</td>\n",
       "      <td>...</td>\n",
       "      <td>...</td>\n",
       "      <td>...</td>\n",
       "    </tr>\n",
       "    <tr>\n",
       "      <th>2960</th>\n",
       "      <td>98dddbc4601dd4443ca174359b237166</td>\n",
       "      <td>2</td>\n",
       "      <td>15.800</td>\n",
       "      <td>0</td>\n",
       "      <td>158.00</td>\n",
       "    </tr>\n",
       "    <tr>\n",
       "      <th>2961</th>\n",
       "      <td>f8201cab383e484733266d1906e2fdfa</td>\n",
       "      <td>10</td>\n",
       "      <td>1208.900</td>\n",
       "      <td>140</td>\n",
       "      <td>889.00</td>\n",
       "    </tr>\n",
       "    <tr>\n",
       "      <th>2962</th>\n",
       "      <td>74871d19219c7d518d0090283e03c137</td>\n",
       "      <td>6</td>\n",
       "      <td>455.004</td>\n",
       "      <td>0</td>\n",
       "      <td>550.04</td>\n",
       "    </tr>\n",
       "    <tr>\n",
       "      <th>2963</th>\n",
       "      <td>e603cf3fec55f8697c9059638d6c8eb5</td>\n",
       "      <td>8</td>\n",
       "      <td>349.700</td>\n",
       "      <td>0</td>\n",
       "      <td>297.00</td>\n",
       "    </tr>\n",
       "    <tr>\n",
       "      <th>2964</th>\n",
       "      <td>9e25199f6ef7e7c347120ff175652c3b</td>\n",
       "      <td>1</td>\n",
       "      <td>1.250</td>\n",
       "      <td>0</td>\n",
       "      <td>12.50</td>\n",
       "    </tr>\n",
       "  </tbody>\n",
       "</table>\n",
       "<p>2965 rows × 5 columns</p>\n",
       "</div>"
      ],
      "text/plain": [
       "                             seller_id  n_orders  revenues  costs     sales\n",
       "0     3442f8959a84dea7ee197c632cb2df15         3   341.870    140    218.70\n",
       "1     d1b65fc7debc3361ea86b5f14c68d2e2        40  2290.307    140  11703.07\n",
       "2     ce3ad9de960102d0677a81f5d0bb7b2d         1    15.800      0    158.00\n",
       "3     c0f3eea2e14555b6faeea3dd58c1b1c3         1     7.999      0     79.99\n",
       "4     51a04a8a6bdcb23deccc82b0b80742cf         1    16.799    100    167.99\n",
       "...                                ...       ...       ...    ...       ...\n",
       "2960  98dddbc4601dd4443ca174359b237166         2    15.800      0    158.00\n",
       "2961  f8201cab383e484733266d1906e2fdfa        10  1208.900    140    889.00\n",
       "2962  74871d19219c7d518d0090283e03c137         6   455.004      0    550.04\n",
       "2963  e603cf3fec55f8697c9059638d6c8eb5         8   349.700      0    297.00\n",
       "2964  9e25199f6ef7e7c347120ff175652c3b         1     1.250      0     12.50\n",
       "\n",
       "[2965 rows x 5 columns]"
      ]
     },
     "execution_count": 48,
     "metadata": {},
     "output_type": "execute_result"
    }
   ],
   "source": [
    "profits_seller = profits_seller[ ['seller_id', \n",
    "                                  'n_orders', 'revenues',\n",
    "                                  'costs'  , 'sales' ] ]\n",
    "\n",
    "profits_seller"
   ]
  },
  {
   "cell_type": "code",
   "execution_count": 49,
   "metadata": {},
   "outputs": [],
   "source": [
    "profits_seller['profits'] = profits_seller['revenues'] - profits_seller['costs']"
   ]
  },
  {
   "cell_type": "code",
   "execution_count": 51,
   "metadata": {},
   "outputs": [
    {
     "data": {
      "text/html": [
       "<div>\n",
       "<style scoped>\n",
       "    .dataframe tbody tr th:only-of-type {\n",
       "        vertical-align: middle;\n",
       "    }\n",
       "\n",
       "    .dataframe tbody tr th {\n",
       "        vertical-align: top;\n",
       "    }\n",
       "\n",
       "    .dataframe thead th {\n",
       "        text-align: right;\n",
       "    }\n",
       "</style>\n",
       "<table border=\"1\" class=\"dataframe\">\n",
       "  <thead>\n",
       "    <tr style=\"text-align: right;\">\n",
       "      <th></th>\n",
       "      <th>seller_id</th>\n",
       "      <th>n_orders</th>\n",
       "      <th>revenues</th>\n",
       "      <th>costs</th>\n",
       "      <th>sales</th>\n",
       "      <th>profits</th>\n",
       "    </tr>\n",
       "  </thead>\n",
       "  <tbody>\n",
       "    <tr>\n",
       "      <th>0</th>\n",
       "      <td>3442f8959a84dea7ee197c632cb2df15</td>\n",
       "      <td>3</td>\n",
       "      <td>341.870</td>\n",
       "      <td>140</td>\n",
       "      <td>218.70</td>\n",
       "      <td>201.870</td>\n",
       "    </tr>\n",
       "    <tr>\n",
       "      <th>1</th>\n",
       "      <td>d1b65fc7debc3361ea86b5f14c68d2e2</td>\n",
       "      <td>40</td>\n",
       "      <td>2290.307</td>\n",
       "      <td>140</td>\n",
       "      <td>11703.07</td>\n",
       "      <td>2150.307</td>\n",
       "    </tr>\n",
       "    <tr>\n",
       "      <th>2</th>\n",
       "      <td>ce3ad9de960102d0677a81f5d0bb7b2d</td>\n",
       "      <td>1</td>\n",
       "      <td>15.800</td>\n",
       "      <td>0</td>\n",
       "      <td>158.00</td>\n",
       "      <td>15.800</td>\n",
       "    </tr>\n",
       "    <tr>\n",
       "      <th>3</th>\n",
       "      <td>c0f3eea2e14555b6faeea3dd58c1b1c3</td>\n",
       "      <td>1</td>\n",
       "      <td>7.999</td>\n",
       "      <td>0</td>\n",
       "      <td>79.99</td>\n",
       "      <td>7.999</td>\n",
       "    </tr>\n",
       "    <tr>\n",
       "      <th>4</th>\n",
       "      <td>51a04a8a6bdcb23deccc82b0b80742cf</td>\n",
       "      <td>1</td>\n",
       "      <td>16.799</td>\n",
       "      <td>100</td>\n",
       "      <td>167.99</td>\n",
       "      <td>-83.201</td>\n",
       "    </tr>\n",
       "    <tr>\n",
       "      <th>...</th>\n",
       "      <td>...</td>\n",
       "      <td>...</td>\n",
       "      <td>...</td>\n",
       "      <td>...</td>\n",
       "      <td>...</td>\n",
       "      <td>...</td>\n",
       "    </tr>\n",
       "    <tr>\n",
       "      <th>2960</th>\n",
       "      <td>98dddbc4601dd4443ca174359b237166</td>\n",
       "      <td>2</td>\n",
       "      <td>15.800</td>\n",
       "      <td>0</td>\n",
       "      <td>158.00</td>\n",
       "      <td>15.800</td>\n",
       "    </tr>\n",
       "    <tr>\n",
       "      <th>2961</th>\n",
       "      <td>f8201cab383e484733266d1906e2fdfa</td>\n",
       "      <td>10</td>\n",
       "      <td>1208.900</td>\n",
       "      <td>140</td>\n",
       "      <td>889.00</td>\n",
       "      <td>1068.900</td>\n",
       "    </tr>\n",
       "    <tr>\n",
       "      <th>2962</th>\n",
       "      <td>74871d19219c7d518d0090283e03c137</td>\n",
       "      <td>6</td>\n",
       "      <td>455.004</td>\n",
       "      <td>0</td>\n",
       "      <td>550.04</td>\n",
       "      <td>455.004</td>\n",
       "    </tr>\n",
       "    <tr>\n",
       "      <th>2963</th>\n",
       "      <td>e603cf3fec55f8697c9059638d6c8eb5</td>\n",
       "      <td>8</td>\n",
       "      <td>349.700</td>\n",
       "      <td>0</td>\n",
       "      <td>297.00</td>\n",
       "      <td>349.700</td>\n",
       "    </tr>\n",
       "    <tr>\n",
       "      <th>2964</th>\n",
       "      <td>9e25199f6ef7e7c347120ff175652c3b</td>\n",
       "      <td>1</td>\n",
       "      <td>1.250</td>\n",
       "      <td>0</td>\n",
       "      <td>12.50</td>\n",
       "      <td>1.250</td>\n",
       "    </tr>\n",
       "  </tbody>\n",
       "</table>\n",
       "<p>2965 rows × 6 columns</p>\n",
       "</div>"
      ],
      "text/plain": [
       "                             seller_id  n_orders  revenues  costs     sales  \\\n",
       "0     3442f8959a84dea7ee197c632cb2df15         3   341.870    140    218.70   \n",
       "1     d1b65fc7debc3361ea86b5f14c68d2e2        40  2290.307    140  11703.07   \n",
       "2     ce3ad9de960102d0677a81f5d0bb7b2d         1    15.800      0    158.00   \n",
       "3     c0f3eea2e14555b6faeea3dd58c1b1c3         1     7.999      0     79.99   \n",
       "4     51a04a8a6bdcb23deccc82b0b80742cf         1    16.799    100    167.99   \n",
       "...                                ...       ...       ...    ...       ...   \n",
       "2960  98dddbc4601dd4443ca174359b237166         2    15.800      0    158.00   \n",
       "2961  f8201cab383e484733266d1906e2fdfa        10  1208.900    140    889.00   \n",
       "2962  74871d19219c7d518d0090283e03c137         6   455.004      0    550.04   \n",
       "2963  e603cf3fec55f8697c9059638d6c8eb5         8   349.700      0    297.00   \n",
       "2964  9e25199f6ef7e7c347120ff175652c3b         1     1.250      0     12.50   \n",
       "\n",
       "       profits  \n",
       "0      201.870  \n",
       "1     2150.307  \n",
       "2       15.800  \n",
       "3        7.999  \n",
       "4      -83.201  \n",
       "...        ...  \n",
       "2960    15.800  \n",
       "2961  1068.900  \n",
       "2962   455.004  \n",
       "2963   349.700  \n",
       "2964     1.250  \n",
       "\n",
       "[2965 rows x 6 columns]"
      ]
     },
     "execution_count": 51,
     "metadata": {},
     "output_type": "execute_result"
    }
   ],
   "source": [
    "profits_seller"
   ]
  },
  {
   "cell_type": "code",
   "execution_count": 52,
   "metadata": {},
   "outputs": [
    {
     "data": {
      "text/html": [
       "<div>\n",
       "<style scoped>\n",
       "    .dataframe tbody tr th:only-of-type {\n",
       "        vertical-align: middle;\n",
       "    }\n",
       "\n",
       "    .dataframe tbody tr th {\n",
       "        vertical-align: top;\n",
       "    }\n",
       "\n",
       "    .dataframe thead th {\n",
       "        text-align: right;\n",
       "    }\n",
       "</style>\n",
       "<table border=\"1\" class=\"dataframe\">\n",
       "  <thead>\n",
       "    <tr style=\"text-align: right;\">\n",
       "      <th></th>\n",
       "      <th>index</th>\n",
       "      <th>seller_id</th>\n",
       "      <th>n_orders</th>\n",
       "      <th>revenues</th>\n",
       "      <th>costs</th>\n",
       "      <th>sales</th>\n",
       "      <th>profits</th>\n",
       "    </tr>\n",
       "  </thead>\n",
       "  <tbody>\n",
       "    <tr>\n",
       "      <th>0</th>\n",
       "      <td>453</td>\n",
       "      <td>1f50f920176fa81dab994f9023523100</td>\n",
       "      <td>1404</td>\n",
       "      <td>12053.921</td>\n",
       "      <td>37950</td>\n",
       "      <td>106939.21</td>\n",
       "      <td>-25896.079</td>\n",
       "    </tr>\n",
       "    <tr>\n",
       "      <th>1</th>\n",
       "      <td>1131</td>\n",
       "      <td>7c67e1448b00f6e969d365cea6b010ab</td>\n",
       "      <td>982</td>\n",
       "      <td>20232.389</td>\n",
       "      <td>43990</td>\n",
       "      <td>187923.89</td>\n",
       "      <td>-23757.611</td>\n",
       "    </tr>\n",
       "  </tbody>\n",
       "</table>\n",
       "</div>"
      ],
      "text/plain": [
       "   index                         seller_id  n_orders   revenues  costs  \\\n",
       "0    453  1f50f920176fa81dab994f9023523100      1404  12053.921  37950   \n",
       "1   1131  7c67e1448b00f6e969d365cea6b010ab       982  20232.389  43990   \n",
       "\n",
       "       sales    profits  \n",
       "0  106939.21 -25896.079  \n",
       "1  187923.89 -23757.611  "
      ]
     },
     "execution_count": 52,
     "metadata": {},
     "output_type": "execute_result"
    }
   ],
   "source": [
    "sorted_profits = profits_seller .sort_values(by = 'profits').reset_index()\n",
    "sorted_profits.head(2)"
   ]
  },
  {
   "cell_type": "code",
   "execution_count": 53,
   "metadata": {},
   "outputs": [
    {
     "data": {
      "text/html": [
       "<div>\n",
       "<style scoped>\n",
       "    .dataframe tbody tr th:only-of-type {\n",
       "        vertical-align: middle;\n",
       "    }\n",
       "\n",
       "    .dataframe tbody tr th {\n",
       "        vertical-align: top;\n",
       "    }\n",
       "\n",
       "    .dataframe thead th {\n",
       "        text-align: right;\n",
       "    }\n",
       "</style>\n",
       "<table border=\"1\" class=\"dataframe\">\n",
       "  <thead>\n",
       "    <tr style=\"text-align: right;\">\n",
       "      <th></th>\n",
       "      <th>index</th>\n",
       "      <th>seller_id</th>\n",
       "      <th>n_orders</th>\n",
       "      <th>revenues</th>\n",
       "      <th>costs</th>\n",
       "      <th>sales</th>\n",
       "      <th>profits</th>\n",
       "    </tr>\n",
       "  </thead>\n",
       "  <tbody>\n",
       "    <tr>\n",
       "      <th>2963</th>\n",
       "      <td>67</td>\n",
       "      <td>7e93a43ef30c4f03f38b393420bc753a</td>\n",
       "      <td>336</td>\n",
       "      <td>19323.187</td>\n",
       "      <td>3260</td>\n",
       "      <td>176431.87</td>\n",
       "      <td>16063.187</td>\n",
       "    </tr>\n",
       "    <tr>\n",
       "      <th>2964</th>\n",
       "      <td>868</td>\n",
       "      <td>53243585a1d6dc2643021fd1853d8905</td>\n",
       "      <td>358</td>\n",
       "      <td>23237.605</td>\n",
       "      <td>5350</td>\n",
       "      <td>222776.05</td>\n",
       "      <td>17887.605</td>\n",
       "    </tr>\n",
       "  </tbody>\n",
       "</table>\n",
       "</div>"
      ],
      "text/plain": [
       "      index                         seller_id  n_orders   revenues  costs  \\\n",
       "2963     67  7e93a43ef30c4f03f38b393420bc753a       336  19323.187   3260   \n",
       "2964    868  53243585a1d6dc2643021fd1853d8905       358  23237.605   5350   \n",
       "\n",
       "          sales    profits  \n",
       "2963  176431.87  16063.187  \n",
       "2964  222776.05  17887.605  "
      ]
     },
     "execution_count": 53,
     "metadata": {},
     "output_type": "execute_result"
    }
   ],
   "source": [
    "sorted_profits.tail(2)"
   ]
  },
  {
   "cell_type": "code",
   "execution_count": 54,
   "metadata": {},
   "outputs": [
    {
     "name": "stdout",
     "output_type": "stream",
     "text": [
      " The resulting profits for all sellers :  947232.32\n"
     ]
    }
   ],
   "source": [
    "print(\" The resulting profits for all sellers : \", round( sorted_profits.profits.sum(), 2) )"
   ]
  },
  {
   "cell_type": "code",
   "execution_count": 55,
   "metadata": {},
   "outputs": [
    {
     "data": {
      "text/plain": [
       "Text(0, 0.5, 'Profits')"
      ]
     },
     "execution_count": 55,
     "metadata": {},
     "output_type": "execute_result"
    },
    {
     "data": {
      "image/png": "[encoded data removed]",
      "text/plain": [
       "<Figure size 640x480 with 1 Axes>"
      ]
     },
     "metadata": {},
     "output_type": "display_data"
    }
   ],
   "source": [
    "sorted_profits.profits.plot()\n",
    "plt.xlabel('sellers_rows'); plt.ylabel('Profits')"
   ]
  },
  {
   "cell_type": "code",
   "execution_count": 56,
   "metadata": {},
   "outputs": [
    {
     "data": {
      "text/plain": [
       "<matplotlib.legend.Legend at 0x7fb351c6d480>"
      ]
     },
     "execution_count": 56,
     "metadata": {},
     "output_type": "execute_result"
    },
    {
     "data": {
      "image/png": "[encoded data removed]",
      "text/plain": [
       "<Figure size 640x480 with 1 Axes>"
      ]
     },
     "metadata": {},
     "output_type": "display_data"
    }
   ],
   "source": [
    "# Revenues\n",
    "np.cumsum(sorted_sellers_1.revenues).plot( label ='Revenues');\n",
    "plt.xlabel('sellers_rows'); \n",
    "# Costs\n",
    "np.cumsum(sorted_costs.costs).plot(color = 'r', label = 'Costs');\n",
    "# Profits\n",
    "np.cumsum(sorted_profits.profits).plot(color = 'green', label = 'Profits');\n",
    "\n",
    "plt.legend()"
   ]
  },
  {
   "cell_type": "markdown",
   "metadata": {},
   "source": [
    "# Number of Orders"
   ]
  },
  {
   "cell_type": "code",
   "execution_count": 58,
   "metadata": {},
   "outputs": [
    {
     "data": {
      "text/plain": [
       "(2965, 6)"
      ]
     },
     "execution_count": 58,
     "metadata": {},
     "output_type": "execute_result"
    }
   ],
   "source": [
    "profits_seller.head(3)\n",
    "profits_seller.shape"
   ]
  },
  {
   "cell_type": "code",
   "execution_count": 59,
   "metadata": {},
   "outputs": [
    {
     "data": {
      "text/plain": [
       "(2965, 2)"
      ]
     },
     "execution_count": 59,
     "metadata": {},
     "output_type": "execute_result"
    }
   ],
   "source": [
    "olist_costs.head(2)\n",
    "olist_costs.shape"
   ]
  },
  {
   "cell_type": "code",
   "execution_count": 60,
   "metadata": {},
   "outputs": [],
   "source": [
    "sellers_2 = profits_seller.merge(olist_costs,\n",
    "                            on = 'seller_id')"
   ]
  },
  {
   "cell_type": "code",
   "execution_count": 61,
   "metadata": {},
   "outputs": [
    {
     "data": {
      "text/html": [
       "<div>\n",
       "<style scoped>\n",
       "    .dataframe tbody tr th:only-of-type {\n",
       "        vertical-align: middle;\n",
       "    }\n",
       "\n",
       "    .dataframe tbody tr th {\n",
       "        vertical-align: top;\n",
       "    }\n",
       "\n",
       "    .dataframe thead th {\n",
       "        text-align: right;\n",
       "    }\n",
       "</style>\n",
       "<table border=\"1\" class=\"dataframe\">\n",
       "  <thead>\n",
       "    <tr style=\"text-align: right;\">\n",
       "      <th></th>\n",
       "      <th>seller_id</th>\n",
       "      <th>n_orders</th>\n",
       "      <th>revenues</th>\n",
       "      <th>costs_x</th>\n",
       "      <th>sales</th>\n",
       "      <th>profits</th>\n",
       "      <th>costs_y</th>\n",
       "    </tr>\n",
       "  </thead>\n",
       "  <tbody>\n",
       "    <tr>\n",
       "      <th>0</th>\n",
       "      <td>3442f8959a84dea7ee197c632cb2df15</td>\n",
       "      <td>3</td>\n",
       "      <td>341.870</td>\n",
       "      <td>140</td>\n",
       "      <td>218.70</td>\n",
       "      <td>201.870</td>\n",
       "      <td>140</td>\n",
       "    </tr>\n",
       "    <tr>\n",
       "      <th>1</th>\n",
       "      <td>d1b65fc7debc3361ea86b5f14c68d2e2</td>\n",
       "      <td>40</td>\n",
       "      <td>2290.307</td>\n",
       "      <td>140</td>\n",
       "      <td>11703.07</td>\n",
       "      <td>2150.307</td>\n",
       "      <td>140</td>\n",
       "    </tr>\n",
       "    <tr>\n",
       "      <th>2</th>\n",
       "      <td>ce3ad9de960102d0677a81f5d0bb7b2d</td>\n",
       "      <td>1</td>\n",
       "      <td>15.800</td>\n",
       "      <td>0</td>\n",
       "      <td>158.00</td>\n",
       "      <td>15.800</td>\n",
       "      <td>0</td>\n",
       "    </tr>\n",
       "  </tbody>\n",
       "</table>\n",
       "</div>"
      ],
      "text/plain": [
       "                          seller_id  n_orders  revenues  costs_x     sales  \\\n",
       "0  3442f8959a84dea7ee197c632cb2df15         3   341.870      140    218.70   \n",
       "1  d1b65fc7debc3361ea86b5f14c68d2e2        40  2290.307      140  11703.07   \n",
       "2  ce3ad9de960102d0677a81f5d0bb7b2d         1    15.800        0    158.00   \n",
       "\n",
       "    profits  costs_y  \n",
       "0   201.870      140  \n",
       "1  2150.307      140  \n",
       "2    15.800        0  "
      ]
     },
     "execution_count": 61,
     "metadata": {},
     "output_type": "execute_result"
    }
   ],
   "source": [
    "sellers_2.head(3)"
   ]
  },
  {
   "cell_type": "code",
   "execution_count": 66,
   "metadata": {},
   "outputs": [
    {
     "data": {
      "text/html": [
       "<div>\n",
       "<style scoped>\n",
       "    .dataframe tbody tr th:only-of-type {\n",
       "        vertical-align: middle;\n",
       "    }\n",
       "\n",
       "    .dataframe tbody tr th {\n",
       "        vertical-align: top;\n",
       "    }\n",
       "\n",
       "    .dataframe thead th {\n",
       "        text-align: right;\n",
       "    }\n",
       "</style>\n",
       "<table border=\"1\" class=\"dataframe\">\n",
       "  <thead>\n",
       "    <tr style=\"text-align: right;\">\n",
       "      <th></th>\n",
       "      <th>seller_id</th>\n",
       "      <th>n_orders</th>\n",
       "      <th>revenues</th>\n",
       "      <th>costs_x</th>\n",
       "      <th>sales</th>\n",
       "      <th>profits</th>\n",
       "      <th>costs_y</th>\n",
       "      <th>review_score</th>\n",
       "    </tr>\n",
       "  </thead>\n",
       "  <tbody>\n",
       "    <tr>\n",
       "      <th>0</th>\n",
       "      <td>3442f8959a84dea7ee197c632cb2df15</td>\n",
       "      <td>3</td>\n",
       "      <td>341.870</td>\n",
       "      <td>140</td>\n",
       "      <td>218.70</td>\n",
       "      <td>201.870</td>\n",
       "      <td>140</td>\n",
       "      <td>3.00</td>\n",
       "    </tr>\n",
       "    <tr>\n",
       "      <th>1</th>\n",
       "      <td>d1b65fc7debc3361ea86b5f14c68d2e2</td>\n",
       "      <td>40</td>\n",
       "      <td>2290.307</td>\n",
       "      <td>140</td>\n",
       "      <td>11703.07</td>\n",
       "      <td>2150.307</td>\n",
       "      <td>140</td>\n",
       "      <td>4.55</td>\n",
       "    </tr>\n",
       "    <tr>\n",
       "      <th>2</th>\n",
       "      <td>ce3ad9de960102d0677a81f5d0bb7b2d</td>\n",
       "      <td>1</td>\n",
       "      <td>15.800</td>\n",
       "      <td>0</td>\n",
       "      <td>158.00</td>\n",
       "      <td>15.800</td>\n",
       "      <td>0</td>\n",
       "      <td>5.00</td>\n",
       "    </tr>\n",
       "    <tr>\n",
       "      <th>3</th>\n",
       "      <td>c0f3eea2e14555b6faeea3dd58c1b1c3</td>\n",
       "      <td>1</td>\n",
       "      <td>7.999</td>\n",
       "      <td>0</td>\n",
       "      <td>79.99</td>\n",
       "      <td>7.999</td>\n",
       "      <td>0</td>\n",
       "      <td>5.00</td>\n",
       "    </tr>\n",
       "    <tr>\n",
       "      <th>4</th>\n",
       "      <td>51a04a8a6bdcb23deccc82b0b80742cf</td>\n",
       "      <td>1</td>\n",
       "      <td>16.799</td>\n",
       "      <td>100</td>\n",
       "      <td>167.99</td>\n",
       "      <td>-83.201</td>\n",
       "      <td>100</td>\n",
       "      <td>1.00</td>\n",
       "    </tr>\n",
       "    <tr>\n",
       "      <th>...</th>\n",
       "      <td>...</td>\n",
       "      <td>...</td>\n",
       "      <td>...</td>\n",
       "      <td>...</td>\n",
       "      <td>...</td>\n",
       "      <td>...</td>\n",
       "      <td>...</td>\n",
       "      <td>...</td>\n",
       "    </tr>\n",
       "    <tr>\n",
       "      <th>2960</th>\n",
       "      <td>98dddbc4601dd4443ca174359b237166</td>\n",
       "      <td>2</td>\n",
       "      <td>15.800</td>\n",
       "      <td>0</td>\n",
       "      <td>158.00</td>\n",
       "      <td>15.800</td>\n",
       "      <td>0</td>\n",
       "      <td>5.00</td>\n",
       "    </tr>\n",
       "    <tr>\n",
       "      <th>2961</th>\n",
       "      <td>f8201cab383e484733266d1906e2fdfa</td>\n",
       "      <td>10</td>\n",
       "      <td>1208.900</td>\n",
       "      <td>140</td>\n",
       "      <td>889.00</td>\n",
       "      <td>1068.900</td>\n",
       "      <td>140</td>\n",
       "      <td>4.10</td>\n",
       "    </tr>\n",
       "    <tr>\n",
       "      <th>2962</th>\n",
       "      <td>74871d19219c7d518d0090283e03c137</td>\n",
       "      <td>6</td>\n",
       "      <td>455.004</td>\n",
       "      <td>0</td>\n",
       "      <td>550.04</td>\n",
       "      <td>455.004</td>\n",
       "      <td>0</td>\n",
       "      <td>5.00</td>\n",
       "    </tr>\n",
       "    <tr>\n",
       "      <th>2963</th>\n",
       "      <td>e603cf3fec55f8697c9059638d6c8eb5</td>\n",
       "      <td>8</td>\n",
       "      <td>349.700</td>\n",
       "      <td>0</td>\n",
       "      <td>297.00</td>\n",
       "      <td>349.700</td>\n",
       "      <td>0</td>\n",
       "      <td>4.25</td>\n",
       "    </tr>\n",
       "    <tr>\n",
       "      <th>2964</th>\n",
       "      <td>9e25199f6ef7e7c347120ff175652c3b</td>\n",
       "      <td>1</td>\n",
       "      <td>1.250</td>\n",
       "      <td>0</td>\n",
       "      <td>12.50</td>\n",
       "      <td>1.250</td>\n",
       "      <td>0</td>\n",
       "      <td>4.00</td>\n",
       "    </tr>\n",
       "  </tbody>\n",
       "</table>\n",
       "<p>2965 rows × 8 columns</p>\n",
       "</div>"
      ],
      "text/plain": [
       "                             seller_id  n_orders  revenues  costs_x     sales  \\\n",
       "0     3442f8959a84dea7ee197c632cb2df15         3   341.870      140    218.70   \n",
       "1     d1b65fc7debc3361ea86b5f14c68d2e2        40  2290.307      140  11703.07   \n",
       "2     ce3ad9de960102d0677a81f5d0bb7b2d         1    15.800        0    158.00   \n",
       "3     c0f3eea2e14555b6faeea3dd58c1b1c3         1     7.999        0     79.99   \n",
       "4     51a04a8a6bdcb23deccc82b0b80742cf         1    16.799      100    167.99   \n",
       "...                                ...       ...       ...      ...       ...   \n",
       "2960  98dddbc4601dd4443ca174359b237166         2    15.800        0    158.00   \n",
       "2961  f8201cab383e484733266d1906e2fdfa        10  1208.900      140    889.00   \n",
       "2962  74871d19219c7d518d0090283e03c137         6   455.004        0    550.04   \n",
       "2963  e603cf3fec55f8697c9059638d6c8eb5         8   349.700        0    297.00   \n",
       "2964  9e25199f6ef7e7c347120ff175652c3b         1     1.250        0     12.50   \n",
       "\n",
       "       profits  costs_y  review_score  \n",
       "0      201.870      140          3.00  \n",
       "1     2150.307      140          4.55  \n",
       "2       15.800        0          5.00  \n",
       "3        7.999        0          5.00  \n",
       "4      -83.201      100          1.00  \n",
       "...        ...      ...           ...  \n",
       "2960    15.800        0          5.00  \n",
       "2961  1068.900      140          4.10  \n",
       "2962   455.004        0          5.00  \n",
       "2963   349.700        0          4.25  \n",
       "2964     1.250        0          4.00  \n",
       "\n",
       "[2965 rows x 8 columns]"
      ]
     },
     "execution_count": 66,
     "metadata": {},
     "output_type": "execute_result"
    }
   ],
   "source": [
    "sellers_3 = sellers_2.merge( sellers[[ 'seller_id', 'review_score']])\n",
    "sellers_3"
   ]
  },
  {
   "cell_type": "code",
   "execution_count": 70,
   "metadata": {},
   "outputs": [],
   "source": [
    "mask_columns = ['seller_id', 'n_orders', 'revenues', \n",
    "       'sales', 'profits','review_score']\n",
    "sellers_3 = sellers_3[mask_columns].copy()"
   ]
  },
  {
   "cell_type": "code",
   "execution_count": 71,
   "metadata": {},
   "outputs": [
    {
     "data": {
      "text/html": [
       "<div>\n",
       "<style scoped>\n",
       "    .dataframe tbody tr th:only-of-type {\n",
       "        vertical-align: middle;\n",
       "    }\n",
       "\n",
       "    .dataframe tbody tr th {\n",
       "        vertical-align: top;\n",
       "    }\n",
       "\n",
       "    .dataframe thead th {\n",
       "        text-align: right;\n",
       "    }\n",
       "</style>\n",
       "<table border=\"1\" class=\"dataframe\">\n",
       "  <thead>\n",
       "    <tr style=\"text-align: right;\">\n",
       "      <th></th>\n",
       "      <th>seller_id</th>\n",
       "      <th>n_orders</th>\n",
       "      <th>revenues</th>\n",
       "      <th>sales</th>\n",
       "      <th>profits</th>\n",
       "      <th>review_score</th>\n",
       "      <th>Rank_profits</th>\n",
       "    </tr>\n",
       "  </thead>\n",
       "  <tbody>\n",
       "    <tr>\n",
       "      <th>769</th>\n",
       "      <td>6560211a19b47992c3666cc44a7e94c0</td>\n",
       "      <td>1854</td>\n",
       "      <td>13770.483</td>\n",
       "      <td>123304.83</td>\n",
       "      <td>-23609.517</td>\n",
       "      <td>3.937093</td>\n",
       "      <td>3.0</td>\n",
       "    </tr>\n",
       "    <tr>\n",
       "      <th>2357</th>\n",
       "      <td>4a3ca9315b744ce9f8e9374361493884</td>\n",
       "      <td>1806</td>\n",
       "      <td>21647.292</td>\n",
       "      <td>200472.92</td>\n",
       "      <td>-21862.708</td>\n",
       "      <td>3.827873</td>\n",
       "      <td>4.0</td>\n",
       "    </tr>\n",
       "    <tr>\n",
       "      <th>1356</th>\n",
       "      <td>cc419e0650a3c5ba77189a1882b7556a</td>\n",
       "      <td>1706</td>\n",
       "      <td>11948.842</td>\n",
       "      <td>104288.42</td>\n",
       "      <td>-15631.158</td>\n",
       "      <td>4.077586</td>\n",
       "      <td>8.0</td>\n",
       "    </tr>\n",
       "  </tbody>\n",
       "</table>\n",
       "</div>"
      ],
      "text/plain": [
       "                             seller_id  n_orders   revenues      sales  \\\n",
       "769   6560211a19b47992c3666cc44a7e94c0      1854  13770.483  123304.83   \n",
       "2357  4a3ca9315b744ce9f8e9374361493884      1806  21647.292  200472.92   \n",
       "1356  cc419e0650a3c5ba77189a1882b7556a      1706  11948.842  104288.42   \n",
       "\n",
       "        profits  review_score  Rank_profits  \n",
       "769  -23609.517      3.937093           3.0  \n",
       "2357 -21862.708      3.827873           4.0  \n",
       "1356 -15631.158      4.077586           8.0  "
      ]
     },
     "execution_count": 71,
     "metadata": {},
     "output_type": "execute_result"
    }
   ],
   "source": [
    "sellers_3[\"Rank_profits\"] = sellers_3[\"profits\"].rank()\n",
    "sellers_3.sort_values(by = 'n_orders', ascending = False).head(3)"
   ]
  },
  {
   "cell_type": "code",
   "execution_count": 72,
   "metadata": {},
   "outputs": [
    {
     "name": "stdout",
     "output_type": "stream",
     "text": [
      " the total cumulated number of orders approved. :  99836\n"
     ]
    }
   ],
   "source": [
    "print( \" the total cumulated number of orders approved. : \", sellers_3['n_orders'].sum() )"
   ]
  },
  {
   "cell_type": "markdown",
   "metadata": {},
   "source": [
    "## The number of orders vs. profits and order vs. review_score"
   ]
  },
  {
   "cell_type": "code",
   "execution_count": 73,
   "metadata": {},
   "outputs": [
    {
     "data": {
      "image/png": "[encoded data removed]",
      "text/plain": [
       "<Figure size 1500x500 with 2 Axes>"
      ]
     },
     "metadata": {},
     "output_type": "display_data"
    }
   ],
   "source": [
    "fig,axes=plt.subplots(1,2, figsize=(15,5))\n",
    "sns.scatterplot(x='n_orders', y='profits', data=sellers_3 ,ax=axes[0])\n",
    "sns.scatterplot(x='n_orders', y='review_score', data=sellers_3, ax=axes[1]);"
   ]
  },
  {
   "cell_type": "markdown",
   "metadata": {},
   "source": [
    "n_orders higher and average(review_score) higher but profits are the more disastrous"
   ]
  },
  {
   "cell_type": "code",
   "execution_count": 74,
   "metadata": {},
   "outputs": [
    {
     "data": {
      "text/plain": [
       "True"
      ]
     },
     "execution_count": 74,
     "metadata": {},
     "output_type": "execute_result"
    }
   ],
   "source": [
    "len(sellers_3['seller_id'].unique()) == len(olist_costs['seller_id'].unique()) "
   ]
  },
  {
   "cell_type": "code",
   "execution_count": 75,
   "metadata": {},
   "outputs": [
    {
     "data": {
      "text/plain": [
       "2965"
      ]
     },
     "execution_count": 75,
     "metadata": {},
     "output_type": "execute_result"
    }
   ],
   "source": [
    "len(sellers_3['seller_id'].unique())"
   ]
  },
  {
   "cell_type": "markdown",
   "metadata": {},
   "source": [
    "## Sellers Decision"
   ]
  },
  {
   "cell_type": "code",
   "execution_count": 76,
   "metadata": {},
   "outputs": [
    {
     "data": {
      "text/html": [
       "<div>\n",
       "<style scoped>\n",
       "    .dataframe tbody tr th:only-of-type {\n",
       "        vertical-align: middle;\n",
       "    }\n",
       "\n",
       "    .dataframe tbody tr th {\n",
       "        vertical-align: top;\n",
       "    }\n",
       "\n",
       "    .dataframe thead th {\n",
       "        text-align: right;\n",
       "    }\n",
       "</style>\n",
       "<table border=\"1\" class=\"dataframe\">\n",
       "  <thead>\n",
       "    <tr style=\"text-align: right;\">\n",
       "      <th></th>\n",
       "      <th>seller_id</th>\n",
       "      <th>date_first_sale</th>\n",
       "      <th>date_last_sale</th>\n",
       "      <th>sales</th>\n",
       "      <th>active_months</th>\n",
       "      <th>revenues</th>\n",
       "      <th>revenues2</th>\n",
       "    </tr>\n",
       "  </thead>\n",
       "  <tbody>\n",
       "    <tr>\n",
       "      <th>0</th>\n",
       "      <td>3442f8959a84dea7ee197c632cb2df15</td>\n",
       "      <td>2017-05-05 16:25:11</td>\n",
       "      <td>2017-08-30 12:50:19</td>\n",
       "      <td>218.70</td>\n",
       "      <td>3.839119</td>\n",
       "      <td>328.999525</td>\n",
       "      <td>328.999525</td>\n",
       "    </tr>\n",
       "    <tr>\n",
       "      <th>1</th>\n",
       "      <td>d1b65fc7debc3361ea86b5f14c68d2e2</td>\n",
       "      <td>2017-03-29 02:10:34</td>\n",
       "      <td>2018-06-06 20:15:21</td>\n",
       "      <td>11703.07</td>\n",
       "      <td>14.283770</td>\n",
       "      <td>2313.008599</td>\n",
       "      <td>2313.008599</td>\n",
       "    </tr>\n",
       "  </tbody>\n",
       "</table>\n",
       "</div>"
      ],
      "text/plain": [
       "                          seller_id     date_first_sale      date_last_sale  \\\n",
       "0  3442f8959a84dea7ee197c632cb2df15 2017-05-05 16:25:11 2017-08-30 12:50:19   \n",
       "1  d1b65fc7debc3361ea86b5f14c68d2e2 2017-03-29 02:10:34 2018-06-06 20:15:21   \n",
       "\n",
       "      sales  active_months     revenues    revenues2  \n",
       "0    218.70       3.839119   328.999525   328.999525  \n",
       "1  11703.07      14.283770  2313.008599  2313.008599  "
      ]
     },
     "execution_count": 76,
     "metadata": {},
     "output_type": "execute_result"
    }
   ],
   "source": [
    "sellers_1.head(2)"
   ]
  },
  {
   "cell_type": "code",
   "execution_count": 77,
   "metadata": {},
   "outputs": [],
   "source": [
    "sellers_rate_price = sellers_1. copy()\n",
    "\n",
    "sellers_rate_price['active_months'] = \\\n",
    "          (sellers_rate_price['date_last_sale'] - sellers_rate_price['date_first_sale']) \\\n",
    "                  / np.timedelta64(1,'M')\n",
    "\n",
    "sellers_rate_price['revenues'] = sellers_rate_price['sales'].map(lambda x : .15*x) \\\n",
    "                       + sellers_rate_price['active_months']*80\n",
    "\n",
    "total_revenues_rate_price = sellers_rate_price['revenues'].sum()\n",
    "\n",
    "total_costs = olist_costs['costs'].sum() # remaining costs \n",
    "profits_rate_price =  total_revenues_rate_price - total_costs\n",
    "\n",
    "IT_costs = 500_000"
   ]
  },
  {
   "cell_type": "code",
   "execution_count": 86,
   "metadata": {},
   "outputs": [
    {
     "data": {
      "text/html": [
       "<div>\n",
       "<style scoped>\n",
       "    .dataframe tbody tr th:only-of-type {\n",
       "        vertical-align: middle;\n",
       "    }\n",
       "\n",
       "    .dataframe tbody tr th {\n",
       "        vertical-align: top;\n",
       "    }\n",
       "\n",
       "    .dataframe thead th {\n",
       "        text-align: right;\n",
       "    }\n",
       "</style>\n",
       "<table border=\"1\" class=\"dataframe\">\n",
       "  <thead>\n",
       "    <tr style=\"text-align: right;\">\n",
       "      <th></th>\n",
       "      <th>seller_id</th>\n",
       "      <th>date_first_sale</th>\n",
       "      <th>date_last_sale</th>\n",
       "      <th>sales</th>\n",
       "      <th>active_months</th>\n",
       "      <th>revenues</th>\n",
       "    </tr>\n",
       "  </thead>\n",
       "  <tbody>\n",
       "    <tr>\n",
       "      <th>0</th>\n",
       "      <td>3442f8959a84dea7ee197c632cb2df15</td>\n",
       "      <td>2017-05-05 16:25:11</td>\n",
       "      <td>2017-08-30 12:50:19</td>\n",
       "      <td>218.70</td>\n",
       "      <td>3.839119</td>\n",
       "      <td>339.934525</td>\n",
       "    </tr>\n",
       "    <tr>\n",
       "      <th>1</th>\n",
       "      <td>d1b65fc7debc3361ea86b5f14c68d2e2</td>\n",
       "      <td>2017-03-29 02:10:34</td>\n",
       "      <td>2018-06-06 20:15:21</td>\n",
       "      <td>11703.07</td>\n",
       "      <td>14.283770</td>\n",
       "      <td>2898.162099</td>\n",
       "    </tr>\n",
       "    <tr>\n",
       "      <th>2</th>\n",
       "      <td>ce3ad9de960102d0677a81f5d0bb7b2d</td>\n",
       "      <td>2018-07-30 12:44:49</td>\n",
       "      <td>2018-07-30 12:44:49</td>\n",
       "      <td>158.00</td>\n",
       "      <td>0.000000</td>\n",
       "      <td>23.700000</td>\n",
       "    </tr>\n",
       "    <tr>\n",
       "      <th>3</th>\n",
       "      <td>c0f3eea2e14555b6faeea3dd58c1b1c3</td>\n",
       "      <td>2018-08-03 00:44:08</td>\n",
       "      <td>2018-08-03 00:44:08</td>\n",
       "      <td>79.99</td>\n",
       "      <td>0.000000</td>\n",
       "      <td>11.998500</td>\n",
       "    </tr>\n",
       "    <tr>\n",
       "      <th>4</th>\n",
       "      <td>51a04a8a6bdcb23deccc82b0b80742cf</td>\n",
       "      <td>2017-11-14 12:15:25</td>\n",
       "      <td>2017-11-14 12:15:25</td>\n",
       "      <td>167.99</td>\n",
       "      <td>0.000000</td>\n",
       "      <td>25.198500</td>\n",
       "    </tr>\n",
       "    <tr>\n",
       "      <th>...</th>\n",
       "      <td>...</td>\n",
       "      <td>...</td>\n",
       "      <td>...</td>\n",
       "      <td>...</td>\n",
       "      <td>...</td>\n",
       "      <td>...</td>\n",
       "    </tr>\n",
       "    <tr>\n",
       "      <th>2962</th>\n",
       "      <td>98dddbc4601dd4443ca174359b237166</td>\n",
       "      <td>2018-07-14 03:10:19</td>\n",
       "      <td>2018-07-23 15:34:03</td>\n",
       "      <td>158.00</td>\n",
       "      <td>0.312663</td>\n",
       "      <td>48.713032</td>\n",
       "    </tr>\n",
       "    <tr>\n",
       "      <th>2963</th>\n",
       "      <td>f8201cab383e484733266d1906e2fdfa</td>\n",
       "      <td>2017-06-17 15:30:11</td>\n",
       "      <td>2018-08-11 19:55:17</td>\n",
       "      <td>889.00</td>\n",
       "      <td>13.805100</td>\n",
       "      <td>1237.757985</td>\n",
       "    </tr>\n",
       "    <tr>\n",
       "      <th>2964</th>\n",
       "      <td>74871d19219c7d518d0090283e03c137</td>\n",
       "      <td>2018-04-05 17:09:46</td>\n",
       "      <td>2018-08-21 19:25:15</td>\n",
       "      <td>550.04</td>\n",
       "      <td>4.537065</td>\n",
       "      <td>445.471214</td>\n",
       "    </tr>\n",
       "    <tr>\n",
       "      <th>2965</th>\n",
       "      <td>e603cf3fec55f8697c9059638d6c8eb5</td>\n",
       "      <td>2017-02-09 02:43:17</td>\n",
       "      <td>2017-06-16 17:30:16</td>\n",
       "      <td>297.00</td>\n",
       "      <td>4.192808</td>\n",
       "      <td>379.974608</td>\n",
       "    </tr>\n",
       "    <tr>\n",
       "      <th>2966</th>\n",
       "      <td>9e25199f6ef7e7c347120ff175652c3b</td>\n",
       "      <td>2017-03-27 10:10:27</td>\n",
       "      <td>2017-03-27 10:10:27</td>\n",
       "      <td>12.50</td>\n",
       "      <td>0.000000</td>\n",
       "      <td>1.875000</td>\n",
       "    </tr>\n",
       "  </tbody>\n",
       "</table>\n",
       "<p>2967 rows × 6 columns</p>\n",
       "</div>"
      ],
      "text/plain": [
       "                             seller_id     date_first_sale  \\\n",
       "0     3442f8959a84dea7ee197c632cb2df15 2017-05-05 16:25:11   \n",
       "1     d1b65fc7debc3361ea86b5f14c68d2e2 2017-03-29 02:10:34   \n",
       "2     ce3ad9de960102d0677a81f5d0bb7b2d 2018-07-30 12:44:49   \n",
       "3     c0f3eea2e14555b6faeea3dd58c1b1c3 2018-08-03 00:44:08   \n",
       "4     51a04a8a6bdcb23deccc82b0b80742cf 2017-11-14 12:15:25   \n",
       "...                                ...                 ...   \n",
       "2962  98dddbc4601dd4443ca174359b237166 2018-07-14 03:10:19   \n",
       "2963  f8201cab383e484733266d1906e2fdfa 2017-06-17 15:30:11   \n",
       "2964  74871d19219c7d518d0090283e03c137 2018-04-05 17:09:46   \n",
       "2965  e603cf3fec55f8697c9059638d6c8eb5 2017-02-09 02:43:17   \n",
       "2966  9e25199f6ef7e7c347120ff175652c3b 2017-03-27 10:10:27   \n",
       "\n",
       "          date_last_sale     sales  active_months     revenues  \n",
       "0    2017-08-30 12:50:19    218.70       3.839119   339.934525  \n",
       "1    2018-06-06 20:15:21  11703.07      14.283770  2898.162099  \n",
       "2    2018-07-30 12:44:49    158.00       0.000000    23.700000  \n",
       "3    2018-08-03 00:44:08     79.99       0.000000    11.998500  \n",
       "4    2017-11-14 12:15:25    167.99       0.000000    25.198500  \n",
       "...                  ...       ...            ...          ...  \n",
       "2962 2018-07-23 15:34:03    158.00       0.312663    48.713032  \n",
       "2963 2018-08-11 19:55:17    889.00      13.805100  1237.757985  \n",
       "2964 2018-08-21 19:25:15    550.04       4.537065   445.471214  \n",
       "2965 2017-06-16 17:30:16    297.00       4.192808   379.974608  \n",
       "2966 2017-03-27 10:10:27     12.50       0.000000     1.875000  \n",
       "\n",
       "[2967 rows x 6 columns]"
      ]
     },
     "execution_count": 86,
     "metadata": {},
     "output_type": "execute_result"
    }
   ],
   "source": [
    "sellers_rate_price.drop(columns='revenues2')"
   ]
  },
  {
   "cell_type": "code",
   "execution_count": 87,
   "metadata": {},
   "outputs": [
    {
     "name": "stdout",
     "output_type": "stream",
     "text": [
      "Revenues for all sellers 15%: 3464856.656282712\n",
      " The total resulting profits 15%:  1627026.66\n",
      "The final resulting profits 15%:  1127026.66\n"
     ]
    }
   ],
   "source": [
    "print(\"Revenues for all sellers 15%:\", total_revenues_rate_price)\n",
    "print( \" The total resulting profits 15%: \", round(profits_rate_price, 2))\n",
    "print(\"The final resulting profits 15%: \",  round(profits_rate_price - IT_costs, 2))"
   ]
  },
  {
   "cell_type": "code",
   "execution_count": 88,
   "metadata": {},
   "outputs": [
    {
     "name": "stdout",
     "output_type": "stream",
     "text": [
      "Revenues for all sellers 10%: 2787067.4342827117\n",
      " The total resulting profits 10%:  949237.43\n",
      "The final resulting profits 10%:  449237.43\n"
     ]
    }
   ],
   "source": [
    "print(\"Revenues for all sellers 10%:\", total_revenues)\n",
    "print( \" The total resulting profits 10%: \", round(profits, 2))\n",
    "print(\"The final resulting profits 10%: \",  round(profits - IT_costs, 2))"
   ]
  },
  {
   "cell_type": "code",
   "execution_count": null,
   "metadata": {},
   "outputs": [],
   "source": []
  },
  {
   "cell_type": "code",
   "execution_count": null,
   "metadata": {},
   "outputs": [],
   "source": []
  },
  {
   "cell_type": "code",
   "execution_count": null,
   "metadata": {},
   "outputs": [],
   "source": []
  },
  {
   "cell_type": "code",
   "execution_count": null,
   "metadata": {},
   "outputs": [],
   "source": []
  }
 ],
 "metadata": {
  "kernelspec": {
   "display_name": "Python 3 (ipykernel)",
   "language": "python",
   "name": "python3"
  },
  "language_info": {
   "codemirror_mode": {
    "name": "ipython",
    "version": 3
   },
   "file_extension": ".py",
   "mimetype": "text/x-python",
   "name": "python",
   "nbconvert_exporter": "python",
   "pygments_lexer": "ipython3",
   "version": "3.10.6"
  }
 },
 "nbformat": 4,
 "nbformat_minor": 4
}
